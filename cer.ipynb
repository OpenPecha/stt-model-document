{
 "cells": [
  {
   "cell_type": "code",
   "execution_count": 1,
   "id": "53e69757",
   "metadata": {
    "vscode": {
     "languageId": "shellscript"
    }
   },
   "outputs": [
    {
     "name": "stdout",
     "output_type": "stream",
     "text": [
      "Defaulting to user installation because normal site-packages is not writeable\n",
      "Requirement already satisfied: pandas in /home/gangagyatso/.local/lib/python3.10/site-packages (2.2.2)\n",
      "Requirement already satisfied: evaluate in /home/gangagyatso/.local/lib/python3.10/site-packages (0.4.2)\n",
      "Requirement already satisfied: jiwer in /home/gangagyatso/.local/lib/python3.10/site-packages (3.0.4)\n",
      "Requirement already satisfied: numpy>=1.22.4 in /home/gangagyatso/.local/lib/python3.10/site-packages (from pandas) (2.2.6)\n",
      "Requirement already satisfied: python-dateutil>=2.8.2 in /home/gangagyatso/.local/lib/python3.10/site-packages (from pandas) (2.8.2)\n",
      "Requirement already satisfied: pytz>=2020.1 in /usr/lib/python3/dist-packages (from pandas) (2022.1)\n",
      "Requirement already satisfied: tzdata>=2022.7 in /home/gangagyatso/.local/lib/python3.10/site-packages (from pandas) (2024.1)\n",
      "Requirement already satisfied: datasets>=2.0.0 in /home/gangagyatso/.local/lib/python3.10/site-packages (from evaluate) (2.19.2)\n",
      "Requirement already satisfied: dill in /home/gangagyatso/.local/lib/python3.10/site-packages (from evaluate) (0.3.8)\n",
      "Requirement already satisfied: requests>=2.19.0 in /home/gangagyatso/.local/lib/python3.10/site-packages (from evaluate) (2.32.5)\n",
      "Requirement already satisfied: tqdm>=4.62.1 in /home/gangagyatso/.local/lib/python3.10/site-packages (from evaluate) (4.67.1)\n",
      "Requirement already satisfied: xxhash in /home/gangagyatso/.local/lib/python3.10/site-packages (from evaluate) (3.4.1)\n",
      "Requirement already satisfied: multiprocess in /home/gangagyatso/.local/lib/python3.10/site-packages (from evaluate) (0.70.16)\n",
      "Requirement already satisfied: fsspec>=2021.05.0 in /home/gangagyatso/.local/lib/python3.10/site-packages (from fsspec[http]>=2021.05.0->evaluate) (2025.9.0)\n",
      "Requirement already satisfied: huggingface-hub>=0.7.0 in /home/gangagyatso/.local/lib/python3.10/site-packages (from evaluate) (0.35.0)\n",
      "Requirement already satisfied: packaging in /home/gangagyatso/.local/lib/python3.10/site-packages (from evaluate) (25.0)\n",
      "Requirement already satisfied: click<9.0.0,>=8.1.3 in /home/gangagyatso/.local/lib/python3.10/site-packages (from jiwer) (8.1.7)\n",
      "Requirement already satisfied: rapidfuzz<4,>=3 in /home/gangagyatso/.local/lib/python3.10/site-packages (from jiwer) (3.13.0)\n",
      "Requirement already satisfied: filelock in /home/gangagyatso/.local/lib/python3.10/site-packages (from datasets>=2.0.0->evaluate) (3.19.1)\n",
      "Requirement already satisfied: pyarrow>=12.0.0 in /home/gangagyatso/.local/lib/python3.10/site-packages (from datasets>=2.0.0->evaluate) (16.1.0)\n",
      "Requirement already satisfied: pyarrow-hotfix in /home/gangagyatso/.local/lib/python3.10/site-packages (from datasets>=2.0.0->evaluate) (0.6)\n",
      "Collecting fsspec>=2021.05.0 (from fsspec[http]>=2021.05.0->evaluate)\n",
      "  Downloading fsspec-2024.3.1-py3-none-any.whl.metadata (6.8 kB)\n",
      "Requirement already satisfied: aiohttp in /home/gangagyatso/.local/lib/python3.10/site-packages (from datasets>=2.0.0->evaluate) (3.9.5)\n",
      "Requirement already satisfied: pyyaml>=5.1 in /home/gangagyatso/.local/lib/python3.10/site-packages (from datasets>=2.0.0->evaluate) (6.0.2)\n",
      "Requirement already satisfied: aiosignal>=1.1.2 in /home/gangagyatso/.local/lib/python3.10/site-packages (from aiohttp->datasets>=2.0.0->evaluate) (1.3.1)\n",
      "Requirement already satisfied: attrs>=17.3.0 in /home/gangagyatso/.local/lib/python3.10/site-packages (from aiohttp->datasets>=2.0.0->evaluate) (23.2.0)\n",
      "Requirement already satisfied: frozenlist>=1.1.1 in /home/gangagyatso/.local/lib/python3.10/site-packages (from aiohttp->datasets>=2.0.0->evaluate) (1.4.1)\n",
      "Requirement already satisfied: multidict<7.0,>=4.5 in /home/gangagyatso/.local/lib/python3.10/site-packages (from aiohttp->datasets>=2.0.0->evaluate) (6.0.5)\n",
      "Requirement already satisfied: yarl<2.0,>=1.0 in /home/gangagyatso/.local/lib/python3.10/site-packages (from aiohttp->datasets>=2.0.0->evaluate) (1.9.4)\n",
      "Requirement already satisfied: async-timeout<5.0,>=4.0 in /home/gangagyatso/.local/lib/python3.10/site-packages (from aiohttp->datasets>=2.0.0->evaluate) (4.0.3)\n",
      "Requirement already satisfied: idna>=2.0 in /home/gangagyatso/.local/lib/python3.10/site-packages (from yarl<2.0,>=1.0->aiohttp->datasets>=2.0.0->evaluate) (3.10)\n",
      "Requirement already satisfied: typing-extensions>=3.7.4.3 in /home/gangagyatso/.local/lib/python3.10/site-packages (from huggingface-hub>=0.7.0->evaluate) (4.15.0)\n",
      "Requirement already satisfied: hf-xet<2.0.0,>=1.1.3 in /home/gangagyatso/.local/lib/python3.10/site-packages (from huggingface-hub>=0.7.0->evaluate) (1.1.10)\n",
      "Requirement already satisfied: six>=1.5 in /usr/lib/python3/dist-packages (from python-dateutil>=2.8.2->pandas) (1.16.0)\n",
      "Requirement already satisfied: charset_normalizer<4,>=2 in /home/gangagyatso/.local/lib/python3.10/site-packages (from requests>=2.19.0->evaluate) (3.4.3)\n",
      "Requirement already satisfied: urllib3<3,>=1.21.1 in /home/gangagyatso/.local/lib/python3.10/site-packages (from requests>=2.19.0->evaluate) (2.5.0)\n",
      "Requirement already satisfied: certifi>=2017.4.17 in /home/gangagyatso/.local/lib/python3.10/site-packages (from requests>=2.19.0->evaluate) (2025.8.3)\n",
      "Downloading fsspec-2024.3.1-py3-none-any.whl (171 kB)\n",
      "Installing collected packages: fsspec\n",
      "  Attempting uninstall: fsspec\n",
      "    Found existing installation: fsspec 2025.9.0\n",
      "    Uninstalling fsspec-2025.9.0:\n",
      "      Successfully uninstalled fsspec-2025.9.0\n",
      "Successfully installed fsspec-2024.3.1\n",
      "\n",
      "\u001b[1m[\u001b[0m\u001b[34;49mnotice\u001b[0m\u001b[1;39;49m]\u001b[0m\u001b[39;49m A new release of pip is available: \u001b[0m\u001b[31;49m25.1.1\u001b[0m\u001b[39;49m -> \u001b[0m\u001b[32;49m25.2\u001b[0m\n",
      "\u001b[1m[\u001b[0m\u001b[34;49mnotice\u001b[0m\u001b[1;39;49m]\u001b[0m\u001b[39;49m To update, run: \u001b[0m\u001b[32;49mpip install --upgrade pip\u001b[0m\n",
      "Defaulting to user installation because normal site-packages is not writeable\n",
      "Requirement already satisfied: tibetan_wer in /home/gangagyatso/.local/lib/python3.10/site-packages (1.0.1)\n",
      "Requirement already satisfied: botok in /home/gangagyatso/.local/lib/python3.10/site-packages (from tibetan_wer) (0.8.12)\n",
      "Requirement already satisfied: numpy in /home/gangagyatso/.local/lib/python3.10/site-packages (from tibetan_wer) (2.2.6)\n",
      "Requirement already satisfied: pyyaml in /home/gangagyatso/.local/lib/python3.10/site-packages (from botok->tibetan_wer) (6.0.2)\n",
      "Requirement already satisfied: requests in /home/gangagyatso/.local/lib/python3.10/site-packages (from botok->tibetan_wer) (2.32.5)\n",
      "Requirement already satisfied: charset_normalizer<4,>=2 in /home/gangagyatso/.local/lib/python3.10/site-packages (from requests->botok->tibetan_wer) (3.4.3)\n",
      "Requirement already satisfied: idna<4,>=2.5 in /home/gangagyatso/.local/lib/python3.10/site-packages (from requests->botok->tibetan_wer) (3.10)\n",
      "Requirement already satisfied: urllib3<3,>=1.21.1 in /home/gangagyatso/.local/lib/python3.10/site-packages (from requests->botok->tibetan_wer) (2.5.0)\n",
      "Requirement already satisfied: certifi>=2017.4.17 in /home/gangagyatso/.local/lib/python3.10/site-packages (from requests->botok->tibetan_wer) (2025.8.3)\n",
      "\n",
      "\u001b[1m[\u001b[0m\u001b[34;49mnotice\u001b[0m\u001b[1;39;49m]\u001b[0m\u001b[39;49m A new release of pip is available: \u001b[0m\u001b[31;49m25.1.1\u001b[0m\u001b[39;49m -> \u001b[0m\u001b[32;49m25.2\u001b[0m\n",
      "\u001b[1m[\u001b[0m\u001b[34;49mnotice\u001b[0m\u001b[1;39;49m]\u001b[0m\u001b[39;49m To update, run: \u001b[0m\u001b[32;49mpip install --upgrade pip\u001b[0m\n"
     ]
    }
   ],
   "source": [
    "! pip install pandas evaluate jiwer\n",
    "! pip install tibetan_wer"
   ]
  },
  {
   "cell_type": "code",
   "execution_count": 2,
   "id": "53e69757",
   "metadata": {
    "vscode": {
     "languageId": "shellscript"
    }
   },
   "outputs": [],
   "source": [
    "def calculate_cer(row):\n",
    "    try:\n",
    "        uni = row['uni']\n",
    "        inf_uni = row['tibetan_transcript']\n",
    "        cer = cer_metric.compute(references=[uni], predictions=[inf_uni])\n",
    "        cer = min(cer, 1.0)\n",
    "        return cer\n",
    "    except:\n",
    "        return 0.0"
   ]
  },
  {
   "cell_type": "code",
   "execution_count": 25,
   "id": "3591c2fa",
   "metadata": {
    "vscode": {
     "languageId": "shellscript"
    }
   },
   "outputs": [
    {
     "data": {
      "application/vnd.jupyter.widget-view+json": {
       "model_id": "d114ce132f5a4f3294cca8dc8f653e6a",
       "version_major": 2,
       "version_minor": 0
      },
      "text/plain": [
       "VBox(children=(HTML(value='<center> <img\\nsrc=https://huggingface.co/front/assets/huggingface_logo-noborder.sv…"
      ]
     },
     "metadata": {},
     "output_type": "display_data"
    }
   ],
   "source": [
    "from huggingface_hub import notebook_login\n",
    "\n",
    "notebook_login()\n"
   ]
  },
  {
   "cell_type": "code",
   "execution_count": 26,
   "id": "d8dff6d2",
   "metadata": {
    "vscode": {
     "languageId": "shellscript"
    }
   },
   "outputs": [
    {
     "name": "stdout",
     "output_type": "stream",
     "text": [
      "Downloading dataset from Hugging Face...\n"
     ]
    },
    {
     "data": {
      "application/vnd.jupyter.widget-view+json": {
       "model_id": "1de2acf7ab2d4a72ae4554dd42270a25",
       "version_major": 2,
       "version_minor": 0
      },
      "text/plain": [
       "Downloading readme: 0.00B [00:00, ?B/s]"
      ]
     },
     "metadata": {},
     "output_type": "display_data"
    },
    {
     "data": {
      "application/vnd.jupyter.widget-view+json": {
       "model_id": "a86e7ef255b2433d870ca05900155e57",
       "version_major": 2,
       "version_minor": 0
      },
      "text/plain": [
       "Downloading data:   0%|          | 0.00/1.21M [00:00<?, ?B/s]"
      ]
     },
     "metadata": {},
     "output_type": "display_data"
    },
    {
     "data": {
      "application/vnd.jupyter.widget-view+json": {
       "model_id": "b887f37d6a9f49b2827ebedc7bb72afc",
       "version_major": 2,
       "version_minor": 0
      },
      "text/plain": [
       "Generating train split:   0%|          | 0/893 [00:00<?, ? examples/s]"
      ]
     },
     "metadata": {},
     "output_type": "display_data"
    }
   ],
   "source": [
    "# Script to download dataset from Hugging Face and merge with existing CSV\n",
    "\n",
    "import os\n",
    "import pandas as pd\n",
    "from datasets import load_dataset\n",
    "\n",
    "# Step 1: Download dataset from Hugging Face\n",
    "print(\"Downloading dataset from Hugging Face...\")\n",
    "dataset = load_dataset(\"ganga4364/garchen_rinpoche_evaluation_results\")"
   ]
  },
  {
   "cell_type": "code",
   "execution_count": 30,
   "id": "9d148bc5",
   "metadata": {
    "vscode": {
     "languageId": "shellscript"
    }
   },
   "outputs": [
    {
     "data": {
      "text/html": [
       "<div>\n",
       "<style scoped>\n",
       "    .dataframe tbody tr th:only-of-type {\n",
       "        vertical-align: middle;\n",
       "    }\n",
       "\n",
       "    .dataframe tbody tr th {\n",
       "        vertical-align: top;\n",
       "    }\n",
       "\n",
       "    .dataframe thead th {\n",
       "        text-align: right;\n",
       "    }\n",
       "</style>\n",
       "<table border=\"1\" class=\"dataframe\">\n",
       "  <thead>\n",
       "    <tr style=\"text-align: right;\">\n",
       "      <th></th>\n",
       "      <th>file_name</th>\n",
       "      <th>path</th>\n",
       "      <th>url</th>\n",
       "      <th>audio_duration</th>\n",
       "      <th>original_id</th>\n",
       "      <th>strata</th>\n",
       "      <th>age_group</th>\n",
       "      <th>duration_category</th>\n",
       "      <th>content_type</th>\n",
       "      <th>uni</th>\n",
       "      <th>...</th>\n",
       "      <th>ft_v7_scratch_lev_dist_23000</th>\n",
       "      <th>ft_v8_scartch_inference_checkpoint-10000</th>\n",
       "      <th>ft_v8_scratch_cer_10000</th>\n",
       "      <th>ft_v8_scratch_lev_dist_10000</th>\n",
       "      <th>ft_v8_scartch_inference_checkpoint-55000</th>\n",
       "      <th>ft_v8_scratch_cer_55000</th>\n",
       "      <th>ft_v8_scratch_lev_dist_55000</th>\n",
       "      <th>ft_v8_scartch_inference_checkpoint-59000</th>\n",
       "      <th>ft_v8_scratch_cer_59000</th>\n",
       "      <th>ft_v8_scratch_lev_dist_59000</th>\n",
       "    </tr>\n",
       "  </thead>\n",
       "  <tbody>\n",
       "    <tr>\n",
       "      <th>0</th>\n",
       "      <td>STT_GR_0001_0010_93600_to_106200</td>\n",
       "      <td>./downloads/STT_GR_0001_0010_93600_to_106200.wav</td>\n",
       "      <td>https://d38pmlk0v88drf.cloudfront.net/wav16k/S...</td>\n",
       "      <td>12.600</td>\n",
       "      <td>STT_GR_0001</td>\n",
       "      <td>70-80__short__Teaching</td>\n",
       "      <td>70-80</td>\n",
       "      <td>short</td>\n",
       "      <td>Teaching</td>\n",
       "      <td>ཁོང་དེ་ནས་དགེ་འདུན་ཁྲི་ལ་སྔོན་ཟླ་རེ་བོད་གླེང་ད...</td>\n",
       "      <td>...</td>\n",
       "      <td>41</td>\n",
       "      <td>ཁོང། དེ་ནས་དགེ་དུས་ཁྲི་ལའི་རྔབ་བདག་རེད།  བུ་གླ...</td>\n",
       "      <td>0.307263</td>\n",
       "      <td>57</td>\n",
       "      <td>ཁོང་། དེ་ནས་དགེ་འདུན་ཁྲིི་ང་ད་རེད།  བུ་གླིང་དེ...</td>\n",
       "      <td>0.262570</td>\n",
       "      <td>49</td>\n",
       "      <td>ཁོང་་དེ་ས་དགེ་འདུལ་ཁྲིི་ལང་བདག་རེད། བུ་གླིང་དེ...</td>\n",
       "      <td>0.290503</td>\n",
       "      <td>54</td>\n",
       "    </tr>\n",
       "    <tr>\n",
       "      <th>1</th>\n",
       "      <td>STT_GR_0033_0105_224320_to_225856</td>\n",
       "      <td>./downloads/STT_GR_0033_0105_224320_to_225856.wav</td>\n",
       "      <td>https://d38pmlk0v88drf.cloudfront.net/wav16k/S...</td>\n",
       "      <td>1.536</td>\n",
       "      <td>STT_GR_0033</td>\n",
       "      <td>70-80__short__Teaching</td>\n",
       "      <td>70-80</td>\n",
       "      <td>short</td>\n",
       "      <td>Teaching</td>\n",
       "      <td>ཕ་གི་ཕར་རང་རེ་རྫས་ཚར་ལེ།</td>\n",
       "      <td>...</td>\n",
       "      <td>18</td>\n",
       "      <td>ཨ། ཕན་པ་འརེད་ཡོད་རེ། དེ་ལདྟ་ལུ།</td>\n",
       "      <td>0.833333</td>\n",
       "      <td>20</td>\n",
       "      <td>ཕན་པ་ཡོད་ན་དེ་ལྟ་ལུ་</td>\n",
       "      <td>0.708333</td>\n",
       "      <td>17</td>\n",
       "      <td>ཨ། ཕན་པ་ཡོད་ལ་དེ་ལྟ་ལུ།</td>\n",
       "      <td>0.750000</td>\n",
       "      <td>18</td>\n",
       "    </tr>\n",
       "    <tr>\n",
       "      <th>2</th>\n",
       "      <td>STT_GR_0032_0004_19067_to_24988</td>\n",
       "      <td>./downloads/STT_GR_0032_0004_19067_to_24988.wav</td>\n",
       "      <td>https://d38pmlk0v88drf.cloudfront.net/wav16k/S...</td>\n",
       "      <td>5.921</td>\n",
       "      <td>STT_GR_0032</td>\n",
       "      <td>70-80__short__Teaching</td>\n",
       "      <td>70-80</td>\n",
       "      <td>short</td>\n",
       "      <td>Teaching</td>\n",
       "      <td>དབང་པོ་གསལ་མཁན་དེ་ཡིས་དབང་སྐུར་དེ་ལ་གསང་རྫས་མཁ...</td>\n",
       "      <td>...</td>\n",
       "      <td>52</td>\n",
       "      <td>སོན་པོ་དེ་ཡིན་ད་ཡང་ཨ་ སྐུ་ལ་འད་རབ་བསམས་། དེ་མག...</td>\n",
       "      <td>0.557692</td>\n",
       "      <td>58</td>\n",
       "      <td>ཕིམ་པ་དེ་ཞི་ནཡང་ཨ་གུ་འདི་ལ་སམས་འད་སགོན་འགྲོ་རོ...</td>\n",
       "      <td>0.596154</td>\n",
       "      <td>62</td>\n",
       "      <td>ཕུ་པུ་དེ་གིས་ལ་ཡུང་བ་གུན་འདི་ལ་སག་འད་སགོུན་འགྲ...</td>\n",
       "      <td>0.538462</td>\n",
       "      <td>56</td>\n",
       "    </tr>\n",
       "    <tr>\n",
       "      <th>3</th>\n",
       "      <td>STT_GR_0033_0099_212224_to_213024</td>\n",
       "      <td>./downloads/STT_GR_0033_0099_212224_to_213024.wav</td>\n",
       "      <td>https://d38pmlk0v88drf.cloudfront.net/wav16k/S...</td>\n",
       "      <td>0.800</td>\n",
       "      <td>STT_GR_0033</td>\n",
       "      <td>70-80__short__Teaching</td>\n",
       "      <td>70-80</td>\n",
       "      <td>short</td>\n",
       "      <td>Teaching</td>\n",
       "      <td>ཐབས་དང་ཟབ་ཅིང་</td>\n",
       "      <td>...</td>\n",
       "      <td>9</td>\n",
       "      <td>ཐ་མ་སྔས་རདད་ཀྱ།</td>\n",
       "      <td>0.857143</td>\n",
       "      <td>12</td>\n",
       "      <td>ཐའ་མ་ཐ་ཅིག།</td>\n",
       "      <td>0.571429</td>\n",
       "      <td>8</td>\n",
       "      <td>ཐ་པ་ཐམས་ཅིད་</td>\n",
       "      <td>0.571429</td>\n",
       "      <td>8</td>\n",
       "    </tr>\n",
       "    <tr>\n",
       "      <th>4</th>\n",
       "      <td>STT_GR_0033_0025_56251_to_58684</td>\n",
       "      <td>./downloads/STT_GR_0033_0025_56251_to_58684.wav</td>\n",
       "      <td>https://d38pmlk0v88drf.cloudfront.net/wav16k/S...</td>\n",
       "      <td>2.433</td>\n",
       "      <td>STT_GR_0033</td>\n",
       "      <td>70-80__short__Teaching</td>\n",
       "      <td>70-80</td>\n",
       "      <td>short</td>\n",
       "      <td>Teaching</td>\n",
       "      <td>ཁོ་ཚོས་གཅིག་གོ་ཐུབ་ཀི་འདུག ཡག་པོ་འདུག་བསམ་གི་འ...</td>\n",
       "      <td>...</td>\n",
       "      <td>4</td>\n",
       "      <td>ཁོ་དོས་་གོ་ཐུབ་ཀྱི་འདུ་།  ཡག་པོ་འདུག་བསམ་གི་འདུག་</td>\n",
       "      <td>0.204082</td>\n",
       "      <td>10</td>\n",
       "      <td>ཁོ་ཚོ་ཕཞིག་གོ་ཐུབ་ཀྱི་འདུག ཡག་པོ་འདུག་བསམ་གྱི་...</td>\n",
       "      <td>0.102041</td>\n",
       "      <td>6</td>\n",
       "      <td>ཁོ་དུ་གཅདེག་ལ་གོ་ཐུབ་ཀྱི་འདུག ཡག་པོ་འདུག་གསམ་ག...</td>\n",
       "      <td>0.204082</td>\n",
       "      <td>11</td>\n",
       "    </tr>\n",
       "  </tbody>\n",
       "</table>\n",
       "<p>5 rows × 58 columns</p>\n",
       "</div>"
      ],
      "text/plain": [
       "                           file_name  \\\n",
       "0   STT_GR_0001_0010_93600_to_106200   \n",
       "1  STT_GR_0033_0105_224320_to_225856   \n",
       "2    STT_GR_0032_0004_19067_to_24988   \n",
       "3  STT_GR_0033_0099_212224_to_213024   \n",
       "4    STT_GR_0033_0025_56251_to_58684   \n",
       "\n",
       "                                                path  \\\n",
       "0   ./downloads/STT_GR_0001_0010_93600_to_106200.wav   \n",
       "1  ./downloads/STT_GR_0033_0105_224320_to_225856.wav   \n",
       "2    ./downloads/STT_GR_0032_0004_19067_to_24988.wav   \n",
       "3  ./downloads/STT_GR_0033_0099_212224_to_213024.wav   \n",
       "4    ./downloads/STT_GR_0033_0025_56251_to_58684.wav   \n",
       "\n",
       "                                                 url  audio_duration  \\\n",
       "0  https://d38pmlk0v88drf.cloudfront.net/wav16k/S...          12.600   \n",
       "1  https://d38pmlk0v88drf.cloudfront.net/wav16k/S...           1.536   \n",
       "2  https://d38pmlk0v88drf.cloudfront.net/wav16k/S...           5.921   \n",
       "3  https://d38pmlk0v88drf.cloudfront.net/wav16k/S...           0.800   \n",
       "4  https://d38pmlk0v88drf.cloudfront.net/wav16k/S...           2.433   \n",
       "\n",
       "   original_id                  strata age_group duration_category  \\\n",
       "0  STT_GR_0001  70-80__short__Teaching     70-80             short   \n",
       "1  STT_GR_0033  70-80__short__Teaching     70-80             short   \n",
       "2  STT_GR_0032  70-80__short__Teaching     70-80             short   \n",
       "3  STT_GR_0033  70-80__short__Teaching     70-80             short   \n",
       "4  STT_GR_0033  70-80__short__Teaching     70-80             short   \n",
       "\n",
       "  content_type                                                uni  ...  \\\n",
       "0     Teaching  ཁོང་དེ་ནས་དགེ་འདུན་ཁྲི་ལ་སྔོན་ཟླ་རེ་བོད་གླེང་ད...  ...   \n",
       "1     Teaching                           ཕ་གི་ཕར་རང་རེ་རྫས་ཚར་ལེ།  ...   \n",
       "2     Teaching  དབང་པོ་གསལ་མཁན་དེ་ཡིས་དབང་སྐུར་དེ་ལ་གསང་རྫས་མཁ...  ...   \n",
       "3     Teaching                                     ཐབས་དང་ཟབ་ཅིང་  ...   \n",
       "4     Teaching  ཁོ་ཚོས་གཅིག་གོ་ཐུབ་ཀི་འདུག ཡག་པོ་འདུག་བསམ་གི་འ...  ...   \n",
       "\n",
       "  ft_v7_scratch_lev_dist_23000  \\\n",
       "0                           41   \n",
       "1                           18   \n",
       "2                           52   \n",
       "3                            9   \n",
       "4                            4   \n",
       "\n",
       "            ft_v8_scartch_inference_checkpoint-10000  ft_v8_scratch_cer_10000  \\\n",
       "0  ཁོང། དེ་ནས་དགེ་དུས་ཁྲི་ལའི་རྔབ་བདག་རེད།  བུ་གླ...                 0.307263   \n",
       "1                    ཨ། ཕན་པ་འརེད་ཡོད་རེ། དེ་ལདྟ་ལུ།                 0.833333   \n",
       "2  སོན་པོ་དེ་ཡིན་ད་ཡང་ཨ་ སྐུ་ལ་འད་རབ་བསམས་། དེ་མག...                 0.557692   \n",
       "3                                    ཐ་མ་སྔས་རདད་ཀྱ།                 0.857143   \n",
       "4  ཁོ་དོས་་གོ་ཐུབ་ཀྱི་འདུ་།  ཡག་པོ་འདུག་བསམ་གི་འདུག་                 0.204082   \n",
       "\n",
       "  ft_v8_scratch_lev_dist_10000  \\\n",
       "0                           57   \n",
       "1                           20   \n",
       "2                           58   \n",
       "3                           12   \n",
       "4                           10   \n",
       "\n",
       "            ft_v8_scartch_inference_checkpoint-55000  ft_v8_scratch_cer_55000  \\\n",
       "0  ཁོང་། དེ་ནས་དགེ་འདུན་ཁྲིི་ང་ད་རེད།  བུ་གླིང་དེ...                 0.262570   \n",
       "1                               ཕན་པ་ཡོད་ན་དེ་ལྟ་ལུ་                 0.708333   \n",
       "2  ཕིམ་པ་དེ་ཞི་ནཡང་ཨ་གུ་འདི་ལ་སམས་འད་སགོན་འགྲོ་རོ...                 0.596154   \n",
       "3                                        ཐའ་མ་ཐ་ཅིག།                 0.571429   \n",
       "4  ཁོ་ཚོ་ཕཞིག་གོ་ཐུབ་ཀྱི་འདུག ཡག་པོ་འདུག་བསམ་གྱི་...                 0.102041   \n",
       "\n",
       "  ft_v8_scratch_lev_dist_55000  \\\n",
       "0                           49   \n",
       "1                           17   \n",
       "2                           62   \n",
       "3                            8   \n",
       "4                            6   \n",
       "\n",
       "            ft_v8_scartch_inference_checkpoint-59000  ft_v8_scratch_cer_59000  \\\n",
       "0  ཁོང་་དེ་ས་དགེ་འདུལ་ཁྲིི་ལང་བདག་རེད། བུ་གླིང་དེ...                 0.290503   \n",
       "1                            ཨ། ཕན་པ་ཡོད་ལ་དེ་ལྟ་ལུ།                 0.750000   \n",
       "2  ཕུ་པུ་དེ་གིས་ལ་ཡུང་བ་གུན་འདི་ལ་སག་འད་སགོུན་འགྲ...                 0.538462   \n",
       "3                                       ཐ་པ་ཐམས་ཅིད་                 0.571429   \n",
       "4  ཁོ་དུ་གཅདེག་ལ་གོ་ཐུབ་ཀྱི་འདུག ཡག་པོ་འདུག་གསམ་ག...                 0.204082   \n",
       "\n",
       "  ft_v8_scratch_lev_dist_59000  \n",
       "0                           54  \n",
       "1                           18  \n",
       "2                           56  \n",
       "3                            8  \n",
       "4                           11  \n",
       "\n",
       "[5 rows x 58 columns]"
      ]
     },
     "execution_count": 30,
     "metadata": {},
     "output_type": "execute_result"
    }
   ],
   "source": [
    "# Convert the train split to a pandas DataFrame\n",
    "df = pd.DataFrame(dataset['train'])\n",
    "\n",
    "# Display the first few rows\n",
    "df.head()"
   ]
  },
  {
   "cell_type": "code",
   "execution_count": 31,
   "id": "1188c91d",
   "metadata": {
    "vscode": {
     "languageId": "shellscript"
    }
   },
   "outputs": [
    {
     "data": {
      "text/plain": [
       "Index(['file_name', 'path', 'url', 'audio_duration', 'original_id', 'strata',\n",
       "       'age_group', 'duration_category', 'content_type', 'uni',\n",
       "       'base_transcript', 'base_cer', 'base_lev_dist',\n",
       "       'ft_v1_inference_checkpoint-5000', 'ft_v1_cer_5000',\n",
       "       'ft_v1_lev_dist_5000', 'ft_v1_inference_checkpoint-10000',\n",
       "       'ft_v1_cer_10000', 'ft_v1_lev_dist_10000',\n",
       "       'ft_v1_inference_checkpoint-19000', 'ft_v1_cer_19000',\n",
       "       'ft_v1_lev_dist_19000', 'ft_v2_inference_checkpoint-20000',\n",
       "       'ft_v2_cer_20000', 'ft_v2_lev_dist_20000',\n",
       "       'ft_v2_inference_checkpoint-32000', 'ft_v2_cer_32000',\n",
       "       'ft_v2_lev_dist_32000', 'ft_v2_inference_checkpoint-43000',\n",
       "       'ft_v2_cer_43000', 'ft_v2_lev_dist_43000',\n",
       "       'ft_v3_inference_checkpoint-1000', 'ft_v3_cer_1000',\n",
       "       'ft_v3_lev_dist_1000', 'ft_v3_inference_checkpoint-25000',\n",
       "       'ft_v3_cer_25000', 'ft_v3_lev_dist_25000',\n",
       "       'ft_v4_inference_checkpoint-22000', 'ft_v4_cer_22000',\n",
       "       'ft_v4_lev_dist_22000', 'ft_v5_base_inference_checkpoint-28000',\n",
       "       'ft_v5_base_cer_28000', 'ft_v5_base_lev_dist_28000',\n",
       "       'ft_v6_ft_inference_checkpoint-25000', 'ft_v6_ft_cer_25000',\n",
       "       'ft_v6_ft_lev_dist_25000', 'ft_v7_scratch_inference_checkpoint-23000',\n",
       "       'ft_v7_scratch_cer_23000', 'ft_v7_scratch_lev_dist_23000',\n",
       "       'ft_v8_scartch_inference_checkpoint-10000', 'ft_v8_scratch_cer_10000',\n",
       "       'ft_v8_scratch_lev_dist_10000',\n",
       "       'ft_v8_scartch_inference_checkpoint-55000', 'ft_v8_scratch_cer_55000',\n",
       "       'ft_v8_scratch_lev_dist_55000',\n",
       "       'ft_v8_scartch_inference_checkpoint-59000', 'ft_v8_scratch_cer_59000',\n",
       "       'ft_v8_scratch_lev_dist_59000'],\n",
       "      dtype='object')"
      ]
     },
     "execution_count": 31,
     "metadata": {},
     "output_type": "execute_result"
    }
   ],
   "source": [
    "df.columns"
   ]
  },
  {
   "cell_type": "code",
   "execution_count": 32,
   "id": "ae78941e",
   "metadata": {
    "vscode": {
     "languageId": "shellscript"
    }
   },
   "outputs": [],
   "source": [
    "import pandas as pd\n",
    "\n",
    "df1 = pd.read_csv(\"/home/gangagyatso/Downloads/output.csv\")\n",
    "\n"
   ]
  },
  {
   "cell_type": "code",
   "execution_count": 36,
   "id": "9cbc2c61",
   "metadata": {
    "vscode": {
     "languageId": "shellscript"
    }
   },
   "outputs": [],
   "source": [
    "df1 = df1[['file_name', 'tibetan_transcript', 'wylie_transcript', 'wylie_to_tibetan_text']]"
   ]
  },
  {
   "cell_type": "code",
   "execution_count": 37,
   "id": "dbc9daf3",
   "metadata": {
    "vscode": {
     "languageId": "shellscript"
    }
   },
   "outputs": [
    {
     "data": {
      "text/html": [
       "<div>\n",
       "<style scoped>\n",
       "    .dataframe tbody tr th:only-of-type {\n",
       "        vertical-align: middle;\n",
       "    }\n",
       "\n",
       "    .dataframe tbody tr th {\n",
       "        vertical-align: top;\n",
       "    }\n",
       "\n",
       "    .dataframe thead th {\n",
       "        text-align: right;\n",
       "    }\n",
       "</style>\n",
       "<table border=\"1\" class=\"dataframe\">\n",
       "  <thead>\n",
       "    <tr style=\"text-align: right;\">\n",
       "      <th></th>\n",
       "      <th>file_name</th>\n",
       "      <th>path</th>\n",
       "      <th>url</th>\n",
       "      <th>audio_duration</th>\n",
       "      <th>original_id</th>\n",
       "      <th>strata</th>\n",
       "      <th>age_group</th>\n",
       "      <th>duration_category</th>\n",
       "      <th>content_type</th>\n",
       "      <th>uni</th>\n",
       "      <th>...</th>\n",
       "      <th>ft_v8_scratch_lev_dist_10000</th>\n",
       "      <th>ft_v8_scartch_inference_checkpoint-55000</th>\n",
       "      <th>ft_v8_scratch_cer_55000</th>\n",
       "      <th>ft_v8_scratch_lev_dist_55000</th>\n",
       "      <th>ft_v8_scartch_inference_checkpoint-59000</th>\n",
       "      <th>ft_v8_scratch_cer_59000</th>\n",
       "      <th>ft_v8_scratch_lev_dist_59000</th>\n",
       "      <th>tibetan_transcript</th>\n",
       "      <th>wylie_transcript</th>\n",
       "      <th>wylie_to_tibetan_text</th>\n",
       "    </tr>\n",
       "  </thead>\n",
       "  <tbody>\n",
       "    <tr>\n",
       "      <th>0</th>\n",
       "      <td>STT_GR_0001_0010_93600_to_106200</td>\n",
       "      <td>./downloads/STT_GR_0001_0010_93600_to_106200.wav</td>\n",
       "      <td>https://d38pmlk0v88drf.cloudfront.net/wav16k/S...</td>\n",
       "      <td>12.600</td>\n",
       "      <td>STT_GR_0001</td>\n",
       "      <td>70-80__short__Teaching</td>\n",
       "      <td>70-80</td>\n",
       "      <td>short</td>\n",
       "      <td>Teaching</td>\n",
       "      <td>ཁོང་དེ་ནས་དགེ་འདུན་ཁྲི་ལ་སྔོན་ཟླ་རེ་བོད་གླེང་ད...</td>\n",
       "      <td>...</td>\n",
       "      <td>57</td>\n",
       "      <td>ཁོང་། དེ་ནས་དགེ་འདུན་ཁྲིི་ང་ད་རེད།  བུ་གླིང་དེ...</td>\n",
       "      <td>0.262570</td>\n",
       "      <td>49</td>\n",
       "      <td>ཁོང་་དེ་ས་དགེ་འདུལ་ཁྲིི་ལང་བདག་རེད། བུ་གླིང་དེ...</td>\n",
       "      <td>0.290503</td>\n",
       "      <td>54</td>\n",
       "      <td>ཁོང་དེ་ནས་དགེ་དུས་འཕྲལ་པའི་ལྔ་ཟླ་རེད། དེ་བུ་གླ...</td>\n",
       "      <td>khong de nas dge du khri ba'i ngab da re yin ...</td>\n",
       "      <td>ཁོང་དེ་ནས་དགེ་དུ་ཁྲི་བའི་ངབ་ད་རེ་ཡིན་པོཨོན་གླི...</td>\n",
       "    </tr>\n",
       "    <tr>\n",
       "      <th>1</th>\n",
       "      <td>STT_GR_0033_0105_224320_to_225856</td>\n",
       "      <td>./downloads/STT_GR_0033_0105_224320_to_225856.wav</td>\n",
       "      <td>https://d38pmlk0v88drf.cloudfront.net/wav16k/S...</td>\n",
       "      <td>1.536</td>\n",
       "      <td>STT_GR_0033</td>\n",
       "      <td>70-80__short__Teaching</td>\n",
       "      <td>70-80</td>\n",
       "      <td>short</td>\n",
       "      <td>Teaching</td>\n",
       "      <td>ཕ་གི་ཕར་རང་རེ་རྫས་ཚར་ལེ།</td>\n",
       "      <td>...</td>\n",
       "      <td>20</td>\n",
       "      <td>ཕན་པ་ཡོད་ན་དེ་ལྟ་ལུ་</td>\n",
       "      <td>0.708333</td>\n",
       "      <td>17</td>\n",
       "      <td>ཨ། ཕན་པ་ཡོད་ལ་དེ་ལྟ་ལུ།</td>\n",
       "      <td>0.750000</td>\n",
       "      <td>18</td>\n",
       "      <td>ཨ། ཕན་པ་རེད་གོ་ན་དེ་ལྟར་ནས།</td>\n",
       "      <td>phan phan ba lag gi yod na de lta bu la</td>\n",
       "      <td>ཕན་ཕན་བ་ལག་གི་ཡོད་ན་དེ་ལྟ་བུ་ལ</td>\n",
       "    </tr>\n",
       "    <tr>\n",
       "      <th>2</th>\n",
       "      <td>STT_GR_0032_0004_19067_to_24988</td>\n",
       "      <td>./downloads/STT_GR_0032_0004_19067_to_24988.wav</td>\n",
       "      <td>https://d38pmlk0v88drf.cloudfront.net/wav16k/S...</td>\n",
       "      <td>5.921</td>\n",
       "      <td>STT_GR_0032</td>\n",
       "      <td>70-80__short__Teaching</td>\n",
       "      <td>70-80</td>\n",
       "      <td>short</td>\n",
       "      <td>Teaching</td>\n",
       "      <td>དབང་པོ་གསལ་མཁན་དེ་ཡིས་དབང་སྐུར་དེ་ལ་གསང་རྫས་མཁ...</td>\n",
       "      <td>...</td>\n",
       "      <td>58</td>\n",
       "      <td>ཕིམ་པ་དེ་ཞི་ནཡང་ཨ་གུ་འདི་ལ་སམས་འད་སགོན་འགྲོ་རོ...</td>\n",
       "      <td>0.596154</td>\n",
       "      <td>62</td>\n",
       "      <td>ཕུ་པུ་དེ་གིས་ལ་ཡུང་བ་གུན་འདི་ལ་སག་འད་སགོུན་འགྲ...</td>\n",
       "      <td>0.538462</td>\n",
       "      <td>56</td>\n",
       "      <td>བུ་དེས་ང་དང་ཡང་བ་གོལ་དུ་དེ་ལ་གསུམ། དེ་ཀུན་འགྲོ...</td>\n",
       "      <td>po tshig nga la yang ba yang kho ru de la gsu...</td>\n",
       "      <td>པོ་ཚིག་ང་ལ་ཡང་བ་ཡང་ཁོ་རུ་དེ་ལ་གསུང་དང་ཁོང་ཆུ་ད...</td>\n",
       "    </tr>\n",
       "    <tr>\n",
       "      <th>3</th>\n",
       "      <td>STT_GR_0033_0099_212224_to_213024</td>\n",
       "      <td>./downloads/STT_GR_0033_0099_212224_to_213024.wav</td>\n",
       "      <td>https://d38pmlk0v88drf.cloudfront.net/wav16k/S...</td>\n",
       "      <td>0.800</td>\n",
       "      <td>STT_GR_0033</td>\n",
       "      <td>70-80__short__Teaching</td>\n",
       "      <td>70-80</td>\n",
       "      <td>short</td>\n",
       "      <td>Teaching</td>\n",
       "      <td>ཐབས་དང་ཟབ་ཅིང་</td>\n",
       "      <td>...</td>\n",
       "      <td>12</td>\n",
       "      <td>ཐའ་མ་ཐ་ཅིག།</td>\n",
       "      <td>0.571429</td>\n",
       "      <td>8</td>\n",
       "      <td>ཐ་པ་ཐམས་ཅིད་</td>\n",
       "      <td>0.571429</td>\n",
       "      <td>8</td>\n",
       "      <td>མཚམས་མའི་ཐམས་ཅད་</td>\n",
       "      <td>thab dang thabs te</td>\n",
       "      <td>ཐབ་དང་ཐབས་ཏེ</td>\n",
       "    </tr>\n",
       "    <tr>\n",
       "      <th>4</th>\n",
       "      <td>STT_GR_0033_0025_56251_to_58684</td>\n",
       "      <td>./downloads/STT_GR_0033_0025_56251_to_58684.wav</td>\n",
       "      <td>https://d38pmlk0v88drf.cloudfront.net/wav16k/S...</td>\n",
       "      <td>2.433</td>\n",
       "      <td>STT_GR_0033</td>\n",
       "      <td>70-80__short__Teaching</td>\n",
       "      <td>70-80</td>\n",
       "      <td>short</td>\n",
       "      <td>Teaching</td>\n",
       "      <td>ཁོ་ཚོས་གཅིག་གོ་ཐུབ་ཀི་འདུག ཡག་པོ་འདུག་བསམ་གི་འ...</td>\n",
       "      <td>...</td>\n",
       "      <td>10</td>\n",
       "      <td>ཁོ་ཚོ་ཕཞིག་གོ་ཐུབ་ཀྱི་འདུག ཡག་པོ་འདུག་བསམ་གྱི་...</td>\n",
       "      <td>0.102041</td>\n",
       "      <td>6</td>\n",
       "      <td>ཁོ་དུ་གཅདེག་ལ་གོ་ཐུབ་ཀྱི་འདུག ཡག་པོ་འདུག་གསམ་ག...</td>\n",
       "      <td>0.204082</td>\n",
       "      <td>11</td>\n",
       "      <td>ཁོ་ཚོས་གཅིག་གི་གོ་ཐུབ་ཀྱི་འདུག ཡག་པོ་འདུག་བསམ་...</td>\n",
       "      <td>kho tshos gcig rtsa kho thub mga'i nang du ya...</td>\n",
       "      <td>ཁོ་ཚོས་གཅིག་རྩ་ཁོ་ཐུབ་མགའི་ནང་དུ་ཡག་པོ་རྡུག་བས...</td>\n",
       "    </tr>\n",
       "  </tbody>\n",
       "</table>\n",
       "<p>5 rows × 61 columns</p>\n",
       "</div>"
      ],
      "text/plain": [
       "                           file_name  \\\n",
       "0   STT_GR_0001_0010_93600_to_106200   \n",
       "1  STT_GR_0033_0105_224320_to_225856   \n",
       "2    STT_GR_0032_0004_19067_to_24988   \n",
       "3  STT_GR_0033_0099_212224_to_213024   \n",
       "4    STT_GR_0033_0025_56251_to_58684   \n",
       "\n",
       "                                                path  \\\n",
       "0   ./downloads/STT_GR_0001_0010_93600_to_106200.wav   \n",
       "1  ./downloads/STT_GR_0033_0105_224320_to_225856.wav   \n",
       "2    ./downloads/STT_GR_0032_0004_19067_to_24988.wav   \n",
       "3  ./downloads/STT_GR_0033_0099_212224_to_213024.wav   \n",
       "4    ./downloads/STT_GR_0033_0025_56251_to_58684.wav   \n",
       "\n",
       "                                                 url  audio_duration  \\\n",
       "0  https://d38pmlk0v88drf.cloudfront.net/wav16k/S...          12.600   \n",
       "1  https://d38pmlk0v88drf.cloudfront.net/wav16k/S...           1.536   \n",
       "2  https://d38pmlk0v88drf.cloudfront.net/wav16k/S...           5.921   \n",
       "3  https://d38pmlk0v88drf.cloudfront.net/wav16k/S...           0.800   \n",
       "4  https://d38pmlk0v88drf.cloudfront.net/wav16k/S...           2.433   \n",
       "\n",
       "   original_id                  strata age_group duration_category  \\\n",
       "0  STT_GR_0001  70-80__short__Teaching     70-80             short   \n",
       "1  STT_GR_0033  70-80__short__Teaching     70-80             short   \n",
       "2  STT_GR_0032  70-80__short__Teaching     70-80             short   \n",
       "3  STT_GR_0033  70-80__short__Teaching     70-80             short   \n",
       "4  STT_GR_0033  70-80__short__Teaching     70-80             short   \n",
       "\n",
       "  content_type                                                uni  ...  \\\n",
       "0     Teaching  ཁོང་དེ་ནས་དགེ་འདུན་ཁྲི་ལ་སྔོན་ཟླ་རེ་བོད་གླེང་ད...  ...   \n",
       "1     Teaching                           ཕ་གི་ཕར་རང་རེ་རྫས་ཚར་ལེ།  ...   \n",
       "2     Teaching  དབང་པོ་གསལ་མཁན་དེ་ཡིས་དབང་སྐུར་དེ་ལ་གསང་རྫས་མཁ...  ...   \n",
       "3     Teaching                                     ཐབས་དང་ཟབ་ཅིང་  ...   \n",
       "4     Teaching  ཁོ་ཚོས་གཅིག་གོ་ཐུབ་ཀི་འདུག ཡག་པོ་འདུག་བསམ་གི་འ...  ...   \n",
       "\n",
       "  ft_v8_scratch_lev_dist_10000  \\\n",
       "0                           57   \n",
       "1                           20   \n",
       "2                           58   \n",
       "3                           12   \n",
       "4                           10   \n",
       "\n",
       "            ft_v8_scartch_inference_checkpoint-55000  ft_v8_scratch_cer_55000  \\\n",
       "0  ཁོང་། དེ་ནས་དགེ་འདུན་ཁྲིི་ང་ད་རེད།  བུ་གླིང་དེ...                 0.262570   \n",
       "1                               ཕན་པ་ཡོད་ན་དེ་ལྟ་ལུ་                 0.708333   \n",
       "2  ཕིམ་པ་དེ་ཞི་ནཡང་ཨ་གུ་འདི་ལ་སམས་འད་སགོན་འགྲོ་རོ...                 0.596154   \n",
       "3                                        ཐའ་མ་ཐ་ཅིག།                 0.571429   \n",
       "4  ཁོ་ཚོ་ཕཞིག་གོ་ཐུབ་ཀྱི་འདུག ཡག་པོ་འདུག་བསམ་གྱི་...                 0.102041   \n",
       "\n",
       "  ft_v8_scratch_lev_dist_55000  \\\n",
       "0                           49   \n",
       "1                           17   \n",
       "2                           62   \n",
       "3                            8   \n",
       "4                            6   \n",
       "\n",
       "            ft_v8_scartch_inference_checkpoint-59000  ft_v8_scratch_cer_59000  \\\n",
       "0  ཁོང་་དེ་ས་དགེ་འདུལ་ཁྲིི་ལང་བདག་རེད། བུ་གླིང་དེ...                 0.290503   \n",
       "1                            ཨ། ཕན་པ་ཡོད་ལ་དེ་ལྟ་ལུ།                 0.750000   \n",
       "2  ཕུ་པུ་དེ་གིས་ལ་ཡུང་བ་གུན་འདི་ལ་སག་འད་སགོུན་འགྲ...                 0.538462   \n",
       "3                                       ཐ་པ་ཐམས་ཅིད་                 0.571429   \n",
       "4  ཁོ་དུ་གཅདེག་ལ་གོ་ཐུབ་ཀྱི་འདུག ཡག་པོ་འདུག་གསམ་ག...                 0.204082   \n",
       "\n",
       "  ft_v8_scratch_lev_dist_59000  \\\n",
       "0                           54   \n",
       "1                           18   \n",
       "2                           56   \n",
       "3                            8   \n",
       "4                           11   \n",
       "\n",
       "                                  tibetan_transcript  \\\n",
       "0  ཁོང་དེ་ནས་དགེ་དུས་འཕྲལ་པའི་ལྔ་ཟླ་རེད། དེ་བུ་གླ...   \n",
       "1                        ཨ། ཕན་པ་རེད་གོ་ན་དེ་ལྟར་ནས།   \n",
       "2  བུ་དེས་ང་དང་ཡང་བ་གོལ་དུ་དེ་ལ་གསུམ། དེ་ཀུན་འགྲོ...   \n",
       "3                                   མཚམས་མའི་ཐམས་ཅད་   \n",
       "4  ཁོ་ཚོས་གཅིག་གི་གོ་ཐུབ་ཀྱི་འདུག ཡག་པོ་འདུག་བསམ་...   \n",
       "\n",
       "                                    wylie_transcript  \\\n",
       "0   khong de nas dge du khri ba'i ngab da re yin ...   \n",
       "1            phan phan ba lag gi yod na de lta bu la   \n",
       "2   po tshig nga la yang ba yang kho ru de la gsu...   \n",
       "3                                 thab dang thabs te   \n",
       "4   kho tshos gcig rtsa kho thub mga'i nang du ya...   \n",
       "\n",
       "                               wylie_to_tibetan_text  \n",
       "0  ཁོང་དེ་ནས་དགེ་དུ་ཁྲི་བའི་ངབ་ད་རེ་ཡིན་པོཨོན་གླི...  \n",
       "1                     ཕན་ཕན་བ་ལག་གི་ཡོད་ན་དེ་ལྟ་བུ་ལ  \n",
       "2  པོ་ཚིག་ང་ལ་ཡང་བ་ཡང་ཁོ་རུ་དེ་ལ་གསུང་དང་ཁོང་ཆུ་ད...  \n",
       "3                                       ཐབ་དང་ཐབས་ཏེ  \n",
       "4  ཁོ་ཚོས་གཅིག་རྩ་ཁོ་ཐུབ་མགའི་ནང་དུ་ཡག་པོ་རྡུག་བས...  \n",
       "\n",
       "[5 rows x 61 columns]"
      ]
     },
     "execution_count": 37,
     "metadata": {},
     "output_type": "execute_result"
    }
   ],
   "source": [
    "# Basic merge on file_name column\n",
    "merged_df = pd.merge(df, df1, on='file_name')\n",
    "\n",
    "# Display the first few rows of the merged DataFrame\n",
    "merged_df.head()"
   ]
  },
  {
   "cell_type": "code",
   "execution_count": 38,
   "id": "55ca2055",
   "metadata": {
    "vscode": {
     "languageId": "shellscript"
    }
   },
   "outputs": [
    {
     "data": {
      "text/plain": [
       "893"
      ]
     },
     "execution_count": 38,
     "metadata": {},
     "output_type": "execute_result"
    }
   ],
   "source": [
    "len(merged_df)"
   ]
  },
  {
   "cell_type": "code",
   "execution_count": 40,
   "id": "75931bce",
   "metadata": {
    "vscode": {
     "languageId": "shellscript"
    }
   },
   "outputs": [],
   "source": [
    "merged_df.to_csv('merged_df.csv', index=False)"
   ]
  },
  {
   "cell_type": "code",
   "execution_count": 39,
   "id": "d5b2a174",
   "metadata": {
    "vscode": {
     "languageId": "shellscript"
    }
   },
   "outputs": [
    {
     "data": {
      "text/plain": [
       "Index(['file_name', 'path', 'url', 'audio_duration', 'original_id', 'strata',\n",
       "       'age_group', 'duration_category', 'content_type', 'uni',\n",
       "       'base_transcript', 'base_cer', 'base_lev_dist',\n",
       "       'ft_v1_inference_checkpoint-5000', 'ft_v1_cer_5000',\n",
       "       'ft_v1_lev_dist_5000', 'ft_v1_inference_checkpoint-10000',\n",
       "       'ft_v1_cer_10000', 'ft_v1_lev_dist_10000',\n",
       "       'ft_v1_inference_checkpoint-19000', 'ft_v1_cer_19000',\n",
       "       'ft_v1_lev_dist_19000', 'ft_v2_inference_checkpoint-20000',\n",
       "       'ft_v2_cer_20000', 'ft_v2_lev_dist_20000',\n",
       "       'ft_v2_inference_checkpoint-32000', 'ft_v2_cer_32000',\n",
       "       'ft_v2_lev_dist_32000', 'ft_v2_inference_checkpoint-43000',\n",
       "       'ft_v2_cer_43000', 'ft_v2_lev_dist_43000',\n",
       "       'ft_v3_inference_checkpoint-1000', 'ft_v3_cer_1000',\n",
       "       'ft_v3_lev_dist_1000', 'ft_v3_inference_checkpoint-25000',\n",
       "       'ft_v3_cer_25000', 'ft_v3_lev_dist_25000',\n",
       "       'ft_v4_inference_checkpoint-22000', 'ft_v4_cer_22000',\n",
       "       'ft_v4_lev_dist_22000', 'ft_v5_base_inference_checkpoint-28000',\n",
       "       'ft_v5_base_cer_28000', 'ft_v5_base_lev_dist_28000',\n",
       "       'ft_v6_ft_inference_checkpoint-25000', 'ft_v6_ft_cer_25000',\n",
       "       'ft_v6_ft_lev_dist_25000', 'ft_v7_scratch_inference_checkpoint-23000',\n",
       "       'ft_v7_scratch_cer_23000', 'ft_v7_scratch_lev_dist_23000',\n",
       "       'ft_v8_scartch_inference_checkpoint-10000', 'ft_v8_scratch_cer_10000',\n",
       "       'ft_v8_scratch_lev_dist_10000',\n",
       "       'ft_v8_scartch_inference_checkpoint-55000', 'ft_v8_scratch_cer_55000',\n",
       "       'ft_v8_scratch_lev_dist_55000',\n",
       "       'ft_v8_scartch_inference_checkpoint-59000', 'ft_v8_scratch_cer_59000',\n",
       "       'ft_v8_scratch_lev_dist_59000', 'tibetan_transcript',\n",
       "       'wylie_transcript', 'wylie_to_tibetan_text'],\n",
       "      dtype='object')"
      ]
     },
     "execution_count": 39,
     "metadata": {},
     "output_type": "execute_result"
    }
   ],
   "source": [
    "merged_df.columns"
   ]
  },
  {
   "cell_type": "code",
   "execution_count": 4,
   "id": "7e9605c7",
   "metadata": {
    "vscode": {
     "languageId": "shellscript"
    }
   },
   "outputs": [
    {
     "data": {
      "text/plain": [
       "Index(['file_name', 'url', 'audio_duration', 'original_id', 'path', 'strata',\n",
       "       'age_group', 'duration_category', 'content_type', 'uni',\n",
       "       'base_transcript', 'base_cer', 'ft_v1_inference_checkpoint-5000',\n",
       "       'ft_v1_cer_5000', 'ft_v1_inference_checkpoint-10000', 'ft_v1_cer_10000',\n",
       "       'ft_v1_inference_checkpoint-19000', 'ft_v1_cer_19000',\n",
       "       'ft_v2_inference_checkpoint-20000', 'ft_v2_cer_20000',\n",
       "       'ft_v2_inference_checkpoint-32000', 'ft_v2_cer_32000',\n",
       "       'ft_v2_inference_checkpoint-43000', 'ft_v2_cer_43000',\n",
       "       'ft_v3_inference_checkpoint-1000', 'ft_v3_cer_1000',\n",
       "       'ft_v3_inference_checkpoint-25000', 'ft_v3_cer_25000',\n",
       "       'ft_v4_inference_checkpoint-22000', 'ft_v4_cer_22000',\n",
       "       'tibetan_transcript', 'wylie_transcript', 'wylie_to_tibetan_text'],\n",
       "      dtype='object')"
      ]
     },
     "execution_count": 4,
     "metadata": {},
     "output_type": "execute_result"
    }
   ],
   "source": [
    "df.columns"
   ]
  },
  {
   "cell_type": "code",
   "execution_count": 5,
   "id": "f20a751e",
   "metadata": {
    "vscode": {
     "languageId": "shellscript"
    }
   },
   "outputs": [
    {
     "data": {
      "text/html": [
       "<div>\n",
       "<style scoped>\n",
       "    .dataframe tbody tr th:only-of-type {\n",
       "        vertical-align: middle;\n",
       "    }\n",
       "\n",
       "    .dataframe tbody tr th {\n",
       "        vertical-align: top;\n",
       "    }\n",
       "\n",
       "    .dataframe thead th {\n",
       "        text-align: right;\n",
       "    }\n",
       "</style>\n",
       "<table border=\"1\" class=\"dataframe\">\n",
       "  <thead>\n",
       "    <tr style=\"text-align: right;\">\n",
       "      <th></th>\n",
       "      <th>file_name</th>\n",
       "      <th>url</th>\n",
       "      <th>audio_duration</th>\n",
       "      <th>original_id</th>\n",
       "      <th>path</th>\n",
       "      <th>strata</th>\n",
       "      <th>age_group</th>\n",
       "      <th>duration_category</th>\n",
       "      <th>content_type</th>\n",
       "      <th>uni</th>\n",
       "      <th>...</th>\n",
       "      <th>ft_v2_cer_43000</th>\n",
       "      <th>ft_v3_inference_checkpoint-1000</th>\n",
       "      <th>ft_v3_cer_1000</th>\n",
       "      <th>ft_v3_inference_checkpoint-25000</th>\n",
       "      <th>ft_v3_cer_25000</th>\n",
       "      <th>ft_v4_inference_checkpoint-22000</th>\n",
       "      <th>ft_v4_cer_22000</th>\n",
       "      <th>tibetan_transcript</th>\n",
       "      <th>wylie_transcript</th>\n",
       "      <th>wylie_to_tibetan_text</th>\n",
       "    </tr>\n",
       "  </thead>\n",
       "  <tbody>\n",
       "    <tr>\n",
       "      <th>0</th>\n",
       "      <td>STT_GR_0001_0010_93600_to_106200</td>\n",
       "      <td>https://d38pmlk0v88drf.cloudfront.net/wav16k/S...</td>\n",
       "      <td>12.600</td>\n",
       "      <td>STT_GR_0001</td>\n",
       "      <td>./downloads/STT_GR_0001_0010_93600_to_106200.wav</td>\n",
       "      <td>70-80__short__Teaching</td>\n",
       "      <td>70-80</td>\n",
       "      <td>short</td>\n",
       "      <td>Teaching</td>\n",
       "      <td>ཁོང་དེ་ནས་དགེ་འདུན་ཁྲི་ལ་སྔོན་ཟླ་རེ་བོད་གླེང་ད...</td>\n",
       "      <td>...</td>\n",
       "      <td>0.245810</td>\n",
       "      <td>ཁོང། དེ་ནས་དགེ་འདུན་ཁྲིའི་ལྔ་བདག་རེད།  བུ་གླིང...</td>\n",
       "      <td>0.273743</td>\n",
       "      <td>ཁོང། དེ་ནས་དགེ་འདུན་ཁྲིི་ལྔ་དག་རེད།  བུ་གླིང་ད...</td>\n",
       "      <td>0.279330</td>\n",
       "      <td>ཁོང་། དེ་ནས་དགེ་འདུན་ཁྲིའི་ལྔ་བདག་རེད།  བུ་གླི...</td>\n",
       "      <td>0.273743</td>\n",
       "      <td>ཁོང་དེ་ནས་དགེ་དུས་འཕྲལ་པའི་ལྔ་ཟླ་རེད། དེ་བུ་གླ...</td>\n",
       "      <td>khong de nas dge du khri ba'i ngab da re yin ...</td>\n",
       "      <td>ཁོང་དེ་ནས་དགེ་དུ་ཁྲི་བའི་ངབ་ད་རེ་ཡིན་པོཨོན་གླི...</td>\n",
       "    </tr>\n",
       "    <tr>\n",
       "      <th>1</th>\n",
       "      <td>STT_GR_0033_0105_224320_to_225856</td>\n",
       "      <td>https://d38pmlk0v88drf.cloudfront.net/wav16k/S...</td>\n",
       "      <td>1.536</td>\n",
       "      <td>STT_GR_0033</td>\n",
       "      <td>./downloads/STT_GR_0033_0105_224320_to_225856.wav</td>\n",
       "      <td>70-80__short__Teaching</td>\n",
       "      <td>70-80</td>\n",
       "      <td>short</td>\n",
       "      <td>Teaching</td>\n",
       "      <td>ཕ་གི་ཕར་རང་རེ་རྫས་ཚར་ལེ།</td>\n",
       "      <td>...</td>\n",
       "      <td>0.833333</td>\n",
       "      <td>ཨ་ཕན་པ་རེད་ཡོད་རེད་དེ་ྟེན་ནུ་</td>\n",
       "      <td>0.833333</td>\n",
       "      <td>ཨ། ཕན་པ་ྲ་ཡོད་ན་དེ་ལྟ་བུ་</td>\n",
       "      <td>0.875000</td>\n",
       "      <td>ཕན་པ་རེད་ཡོད་ན་དེ་ལྟ་ད</td>\n",
       "      <td>0.750000</td>\n",
       "      <td>ཨ། ཕན་པ་རེད་གོ་ན་དེ་ལྟར་ནས།</td>\n",
       "      <td>phan phan ba lag gi yod na de lta bu la</td>\n",
       "      <td>ཕན་ཕན་བ་ལག་གི་ཡོད་ན་དེ་ལྟ་བུ་ལ</td>\n",
       "    </tr>\n",
       "    <tr>\n",
       "      <th>2</th>\n",
       "      <td>STT_GR_0032_0004_19067_to_24988</td>\n",
       "      <td>https://d38pmlk0v88drf.cloudfront.net/wav16k/S...</td>\n",
       "      <td>5.921</td>\n",
       "      <td>STT_GR_0032</td>\n",
       "      <td>./downloads/STT_GR_0032_0004_19067_to_24988.wav</td>\n",
       "      <td>70-80__short__Teaching</td>\n",
       "      <td>70-80</td>\n",
       "      <td>short</td>\n",
       "      <td>Teaching</td>\n",
       "      <td>དབང་པོ་གསལ་མཁན་དེ་ཡིས་དབང་སྐུར་དེ་ལ་གསང་རྫས་མཁ...</td>\n",
       "      <td>...</td>\n",
       "      <td>0.432692</td>\n",
       "      <td>ཀོན་པ་དེང་དི་ཡལ་བ་ྐུ་ི་ཏི་ར་སེ་དི་སྔོན་འགྲོ་ལྔ...</td>\n",
       "      <td>0.471154</td>\n",
       "      <td>ཨན་པ་དེ་གས་ནི་ཡང་བང་མཁོས་འདི་ལ་གསམ། འདི་ མཁོ་འ...</td>\n",
       "      <td>0.509615</td>\n",
       "      <td>བམི་དེ་གས་ན་ཡང་དབ་སྐོར་ར་འད་ལ་གསིཾ་ཚེ་སཁོར་འགྲ...</td>\n",
       "      <td>0.490385</td>\n",
       "      <td>བུ་དེས་ང་དང་ཡང་བ་གོལ་དུ་དེ་ལ་གསུམ། དེ་ཀུན་འགྲོ...</td>\n",
       "      <td>po tshig nga la yang ba yang kho ru de la gsu...</td>\n",
       "      <td>པོ་ཚིག་ང་ལ་ཡང་བ་ཡང་ཁོ་རུ་དེ་ལ་གསུང་དང་ཁོང་ཆུ་ད...</td>\n",
       "    </tr>\n",
       "    <tr>\n",
       "      <th>3</th>\n",
       "      <td>STT_GR_0033_0099_212224_to_213024</td>\n",
       "      <td>https://d38pmlk0v88drf.cloudfront.net/wav16k/S...</td>\n",
       "      <td>0.800</td>\n",
       "      <td>STT_GR_0033</td>\n",
       "      <td>./downloads/STT_GR_0033_0099_212224_to_213024.wav</td>\n",
       "      <td>70-80__short__Teaching</td>\n",
       "      <td>70-80</td>\n",
       "      <td>short</td>\n",
       "      <td>Teaching</td>\n",
       "      <td>ཐབས་དང་ཟབ་ཅིང་</td>\n",
       "      <td>...</td>\n",
       "      <td>0.642857</td>\n",
       "      <td>ཐམ་པ་ཐ་ཞ་་</td>\n",
       "      <td>0.642857</td>\n",
       "      <td>ཐག་མ་ཐས་དད་</td>\n",
       "      <td>0.642857</td>\n",
       "      <td>ཐམ་མ་ཐས་ཀི་</td>\n",
       "      <td>0.571429</td>\n",
       "      <td>མཚམས་མའི་ཐམས་ཅད་</td>\n",
       "      <td>thab dang thabs te</td>\n",
       "      <td>ཐབ་དང་ཐབས་ཏེ</td>\n",
       "    </tr>\n",
       "    <tr>\n",
       "      <th>4</th>\n",
       "      <td>STT_GR_0033_0025_56251_to_58684</td>\n",
       "      <td>https://d38pmlk0v88drf.cloudfront.net/wav16k/S...</td>\n",
       "      <td>2.433</td>\n",
       "      <td>STT_GR_0033</td>\n",
       "      <td>./downloads/STT_GR_0033_0025_56251_to_58684.wav</td>\n",
       "      <td>70-80__short__Teaching</td>\n",
       "      <td>70-80</td>\n",
       "      <td>short</td>\n",
       "      <td>Teaching</td>\n",
       "      <td>ཁོ་ཚོས་གཅིག་གོ་ཐུབ་ཀི་འདུག ཡག་པོ་འདུག་བསམ་གི་འ...</td>\n",
       "      <td>...</td>\n",
       "      <td>0.102041</td>\n",
       "      <td>ཁོ་ཚོས་གཅིག་གི་གོ་ཐུབ་ཀྱི་འདུག ཡག་པོ་འདུག་བསམ་...</td>\n",
       "      <td>0.102041</td>\n",
       "      <td>ཁོ་ཚོས་གཅིག་གི་གོ་ཐུབ་ཀྱི་འདུག ཡག་པོ་འདུག་བསམ་...</td>\n",
       "      <td>0.102041</td>\n",
       "      <td>ཁོ་ཚོས་གཅིག་གི་གོ་ཐུབ་ཀྱི་འདུག ཡག་པོ་འདུག་བསམ་...</td>\n",
       "      <td>0.102041</td>\n",
       "      <td>ཁོ་ཚོས་གཅིག་གི་གོ་ཐུབ་ཀྱི་འདུག ཡག་པོ་འདུག་བསམ་...</td>\n",
       "      <td>kho tshos gcig rtsa kho thub mga'i nang du ya...</td>\n",
       "      <td>ཁོ་ཚོས་གཅིག་རྩ་ཁོ་ཐུབ་མགའི་ནང་དུ་ཡག་པོ་རྡུག་བས...</td>\n",
       "    </tr>\n",
       "  </tbody>\n",
       "</table>\n",
       "<p>5 rows × 33 columns</p>\n",
       "</div>"
      ],
      "text/plain": [
       "                           file_name  \\\n",
       "0   STT_GR_0001_0010_93600_to_106200   \n",
       "1  STT_GR_0033_0105_224320_to_225856   \n",
       "2    STT_GR_0032_0004_19067_to_24988   \n",
       "3  STT_GR_0033_0099_212224_to_213024   \n",
       "4    STT_GR_0033_0025_56251_to_58684   \n",
       "\n",
       "                                                 url  audio_duration  \\\n",
       "0  https://d38pmlk0v88drf.cloudfront.net/wav16k/S...          12.600   \n",
       "1  https://d38pmlk0v88drf.cloudfront.net/wav16k/S...           1.536   \n",
       "2  https://d38pmlk0v88drf.cloudfront.net/wav16k/S...           5.921   \n",
       "3  https://d38pmlk0v88drf.cloudfront.net/wav16k/S...           0.800   \n",
       "4  https://d38pmlk0v88drf.cloudfront.net/wav16k/S...           2.433   \n",
       "\n",
       "   original_id                                               path  \\\n",
       "0  STT_GR_0001   ./downloads/STT_GR_0001_0010_93600_to_106200.wav   \n",
       "1  STT_GR_0033  ./downloads/STT_GR_0033_0105_224320_to_225856.wav   \n",
       "2  STT_GR_0032    ./downloads/STT_GR_0032_0004_19067_to_24988.wav   \n",
       "3  STT_GR_0033  ./downloads/STT_GR_0033_0099_212224_to_213024.wav   \n",
       "4  STT_GR_0033    ./downloads/STT_GR_0033_0025_56251_to_58684.wav   \n",
       "\n",
       "                   strata age_group duration_category content_type  \\\n",
       "0  70-80__short__Teaching     70-80             short     Teaching   \n",
       "1  70-80__short__Teaching     70-80             short     Teaching   \n",
       "2  70-80__short__Teaching     70-80             short     Teaching   \n",
       "3  70-80__short__Teaching     70-80             short     Teaching   \n",
       "4  70-80__short__Teaching     70-80             short     Teaching   \n",
       "\n",
       "                                                 uni  ... ft_v2_cer_43000  \\\n",
       "0  ཁོང་དེ་ནས་དགེ་འདུན་ཁྲི་ལ་སྔོན་ཟླ་རེ་བོད་གླེང་ད...  ...        0.245810   \n",
       "1                           ཕ་གི་ཕར་རང་རེ་རྫས་ཚར་ལེ།  ...        0.833333   \n",
       "2  དབང་པོ་གསལ་མཁན་དེ་ཡིས་དབང་སྐུར་དེ་ལ་གསང་རྫས་མཁ...  ...        0.432692   \n",
       "3                                     ཐབས་དང་ཟབ་ཅིང་  ...        0.642857   \n",
       "4  ཁོ་ཚོས་གཅིག་གོ་ཐུབ་ཀི་འདུག ཡག་པོ་འདུག་བསམ་གི་འ...  ...        0.102041   \n",
       "\n",
       "                     ft_v3_inference_checkpoint-1000 ft_v3_cer_1000  \\\n",
       "0  ཁོང། དེ་ནས་དགེ་འདུན་ཁྲིའི་ལྔ་བདག་རེད།  བུ་གླིང...       0.273743   \n",
       "1                      ཨ་ཕན་པ་རེད་ཡོད་རེད་དེ་ྟེན་ནུ་       0.833333   \n",
       "2  ཀོན་པ་དེང་དི་ཡལ་བ་ྐུ་ི་ཏི་ར་སེ་དི་སྔོན་འགྲོ་ལྔ...       0.471154   \n",
       "3                                         ཐམ་པ་ཐ་ཞ་་       0.642857   \n",
       "4  ཁོ་ཚོས་གཅིག་གི་གོ་ཐུབ་ཀྱི་འདུག ཡག་པོ་འདུག་བསམ་...       0.102041   \n",
       "\n",
       "                    ft_v3_inference_checkpoint-25000 ft_v3_cer_25000  \\\n",
       "0  ཁོང། དེ་ནས་དགེ་འདུན་ཁྲིི་ལྔ་དག་རེད།  བུ་གླིང་ད...        0.279330   \n",
       "1                          ཨ། ཕན་པ་ྲ་ཡོད་ན་དེ་ལྟ་བུ་        0.875000   \n",
       "2  ཨན་པ་དེ་གས་ནི་ཡང་བང་མཁོས་འདི་ལ་གསམ། འདི་ མཁོ་འ...        0.509615   \n",
       "3                                        ཐག་མ་ཐས་དད་        0.642857   \n",
       "4  ཁོ་ཚོས་གཅིག་གི་གོ་ཐུབ་ཀྱི་འདུག ཡག་པོ་འདུག་བསམ་...        0.102041   \n",
       "\n",
       "                    ft_v4_inference_checkpoint-22000 ft_v4_cer_22000  \\\n",
       "0  ཁོང་། དེ་ནས་དགེ་འདུན་ཁྲིའི་ལྔ་བདག་རེད།  བུ་གླི...        0.273743   \n",
       "1                             ཕན་པ་རེད་ཡོད་ན་དེ་ལྟ་ད        0.750000   \n",
       "2  བམི་དེ་གས་ན་ཡང་དབ་སྐོར་ར་འད་ལ་གསིཾ་ཚེ་སཁོར་འགྲ...        0.490385   \n",
       "3                                        ཐམ་མ་ཐས་ཀི་        0.571429   \n",
       "4  ཁོ་ཚོས་གཅིག་གི་གོ་ཐུབ་ཀྱི་འདུག ཡག་པོ་འདུག་བསམ་...        0.102041   \n",
       "\n",
       "                                  tibetan_transcript  \\\n",
       "0  ཁོང་དེ་ནས་དགེ་དུས་འཕྲལ་པའི་ལྔ་ཟླ་རེད། དེ་བུ་གླ...   \n",
       "1                        ཨ། ཕན་པ་རེད་གོ་ན་དེ་ལྟར་ནས།   \n",
       "2  བུ་དེས་ང་དང་ཡང་བ་གོལ་དུ་དེ་ལ་གསུམ། དེ་ཀུན་འགྲོ...   \n",
       "3                                   མཚམས་མའི་ཐམས་ཅད་   \n",
       "4  ཁོ་ཚོས་གཅིག་གི་གོ་ཐུབ་ཀྱི་འདུག ཡག་པོ་འདུག་བསམ་...   \n",
       "\n",
       "                                    wylie_transcript  \\\n",
       "0   khong de nas dge du khri ba'i ngab da re yin ...   \n",
       "1            phan phan ba lag gi yod na de lta bu la   \n",
       "2   po tshig nga la yang ba yang kho ru de la gsu...   \n",
       "3                                 thab dang thabs te   \n",
       "4   kho tshos gcig rtsa kho thub mga'i nang du ya...   \n",
       "\n",
       "                               wylie_to_tibetan_text  \n",
       "0  ཁོང་དེ་ནས་དགེ་དུ་ཁྲི་བའི་ངབ་ད་རེ་ཡིན་པོཨོན་གླི...  \n",
       "1                     ཕན་ཕན་བ་ལག་གི་ཡོད་ན་དེ་ལྟ་བུ་ལ  \n",
       "2  པོ་ཚིག་ང་ལ་ཡང་བ་ཡང་ཁོ་རུ་དེ་ལ་གསུང་དང་ཁོང་ཆུ་ད...  \n",
       "3                                       ཐབ་དང་ཐབས་ཏེ  \n",
       "4  ཁོ་ཚོས་གཅིག་རྩ་ཁོ་ཐུབ་མགའི་ནང་དུ་ཡག་པོ་རྡུག་བས...  \n",
       "\n",
       "[5 rows x 33 columns]"
      ]
     },
     "execution_count": 5,
     "metadata": {},
     "output_type": "execute_result"
    }
   ],
   "source": [
    "df.head()"
   ]
  },
  {
   "cell_type": "code",
   "execution_count": 6,
   "id": "26a7e9e7",
   "metadata": {
    "vscode": {
     "languageId": "shellscript"
    }
   },
   "outputs": [
    {
     "name": "stdout",
     "output_type": "stream",
     "text": [
      "Loading Trie... (1s.)\n"
     ]
    }
   ],
   "source": [
    "from tibetan_wer.metrics import wer, ser"
   ]
  },
  {
   "cell_type": "code",
   "execution_count": 7,
   "id": "a80af3ae",
   "metadata": {
    "vscode": {
     "languageId": "shellscript"
    }
   },
   "outputs": [
    {
     "ename": "ImportError",
     "evalue": "cannot import name 'cer_metric' from 'datasets' (/home/gangagyatso/.local/lib/python3.10/site-packages/datasets/__init__.py)",
     "output_type": "error",
     "traceback": [
      "\u001b[0;31m---------------------------------------------------------------------------\u001b[0m",
      "\u001b[0;31mImportError\u001b[0m                               Traceback (most recent call last)",
      "Cell \u001b[0;32mIn[7], line 1\u001b[0m\n\u001b[0;32m----> 1\u001b[0m \u001b[38;5;28;01mfrom\u001b[39;00m \u001b[38;5;21;01mdatasets\u001b[39;00m \u001b[38;5;28;01mimport\u001b[39;00m cer_metric\n\u001b[1;32m      3\u001b[0m references \u001b[38;5;241m=\u001b[39m \u001b[38;5;28mlist\u001b[39m(df[\u001b[38;5;124m'\u001b[39m\u001b[38;5;124muni\u001b[39m\u001b[38;5;124m'\u001b[39m])\n\u001b[1;32m      4\u001b[0m predictions \u001b[38;5;241m=\u001b[39m \u001b[38;5;28mlist\u001b[39m(df[\u001b[38;5;124m'\u001b[39m\u001b[38;5;124mtibetan_transcript\u001b[39m\u001b[38;5;124m'\u001b[39m])\n",
      "\u001b[0;31mImportError\u001b[0m: cannot import name 'cer_metric' from 'datasets' (/home/gangagyatso/.local/lib/python3.10/site-packages/datasets/__init__.py)"
     ]
    }
   ],
   "source": [
    "from datasets import cer_metric\n",
    "\n",
    "references = list(df['uni'])\n",
    "predictions = list(df['tibetan_transcript'])\n",
    "\n",
    "result = cer_metric.compute(predictions=predictions, references=references)\n",
    "print(result)\n"
   ]
  },
  {
   "cell_type": "code",
   "execution_count": 8,
   "id": "8690fe96",
   "metadata": {
    "vscode": {
     "languageId": "shellscript"
    }
   },
   "outputs": [
    {
     "name": "stdout",
     "output_type": "stream",
     "text": [
      "Defaulting to user installation because normal site-packages is not writeable\n",
      "Requirement already satisfied: jiwer in /home/gangagyatso/.local/lib/python3.10/site-packages (3.0.4)\n",
      "Requirement already satisfied: evaluate in /home/gangagyatso/.local/lib/python3.10/site-packages (0.4.2)\n",
      "Requirement already satisfied: click<9.0.0,>=8.1.3 in /home/gangagyatso/.local/lib/python3.10/site-packages (from jiwer) (8.1.7)\n",
      "Requirement already satisfied: rapidfuzz<4,>=3 in /home/gangagyatso/.local/lib/python3.10/site-packages (from jiwer) (3.13.0)\n",
      "Requirement already satisfied: datasets>=2.0.0 in /home/gangagyatso/.local/lib/python3.10/site-packages (from evaluate) (2.19.2)\n",
      "Requirement already satisfied: numpy>=1.17 in /home/gangagyatso/.local/lib/python3.10/site-packages (from evaluate) (2.2.6)\n",
      "Requirement already satisfied: dill in /home/gangagyatso/.local/lib/python3.10/site-packages (from evaluate) (0.3.8)\n",
      "Requirement already satisfied: pandas in /home/gangagyatso/.local/lib/python3.10/site-packages (from evaluate) (2.2.2)\n",
      "Requirement already satisfied: requests>=2.19.0 in /home/gangagyatso/.local/lib/python3.10/site-packages (from evaluate) (2.32.5)\n",
      "Requirement already satisfied: tqdm>=4.62.1 in /home/gangagyatso/.local/lib/python3.10/site-packages (from evaluate) (4.67.1)\n",
      "Requirement already satisfied: xxhash in /home/gangagyatso/.local/lib/python3.10/site-packages (from evaluate) (3.4.1)\n",
      "Requirement already satisfied: multiprocess in /home/gangagyatso/.local/lib/python3.10/site-packages (from evaluate) (0.70.16)\n",
      "Requirement already satisfied: fsspec>=2021.05.0 in /home/gangagyatso/.local/lib/python3.10/site-packages (from fsspec[http]>=2021.05.0->evaluate) (2024.3.1)\n",
      "Requirement already satisfied: huggingface-hub>=0.7.0 in /home/gangagyatso/.local/lib/python3.10/site-packages (from evaluate) (0.35.0)\n",
      "Requirement already satisfied: packaging in /home/gangagyatso/.local/lib/python3.10/site-packages (from evaluate) (25.0)\n",
      "Requirement already satisfied: filelock in /home/gangagyatso/.local/lib/python3.10/site-packages (from datasets>=2.0.0->evaluate) (3.19.1)\n",
      "Requirement already satisfied: pyarrow>=12.0.0 in /home/gangagyatso/.local/lib/python3.10/site-packages (from datasets>=2.0.0->evaluate) (16.1.0)\n",
      "Requirement already satisfied: pyarrow-hotfix in /home/gangagyatso/.local/lib/python3.10/site-packages (from datasets>=2.0.0->evaluate) (0.6)\n",
      "Requirement already satisfied: aiohttp in /home/gangagyatso/.local/lib/python3.10/site-packages (from datasets>=2.0.0->evaluate) (3.9.5)\n",
      "Requirement already satisfied: pyyaml>=5.1 in /home/gangagyatso/.local/lib/python3.10/site-packages (from datasets>=2.0.0->evaluate) (6.0.2)\n",
      "Requirement already satisfied: aiosignal>=1.1.2 in /home/gangagyatso/.local/lib/python3.10/site-packages (from aiohttp->datasets>=2.0.0->evaluate) (1.3.1)\n",
      "Requirement already satisfied: attrs>=17.3.0 in /home/gangagyatso/.local/lib/python3.10/site-packages (from aiohttp->datasets>=2.0.0->evaluate) (23.2.0)\n",
      "Requirement already satisfied: frozenlist>=1.1.1 in /home/gangagyatso/.local/lib/python3.10/site-packages (from aiohttp->datasets>=2.0.0->evaluate) (1.4.1)\n",
      "Requirement already satisfied: multidict<7.0,>=4.5 in /home/gangagyatso/.local/lib/python3.10/site-packages (from aiohttp->datasets>=2.0.0->evaluate) (6.0.5)\n",
      "Requirement already satisfied: yarl<2.0,>=1.0 in /home/gangagyatso/.local/lib/python3.10/site-packages (from aiohttp->datasets>=2.0.0->evaluate) (1.9.4)\n",
      "Requirement already satisfied: async-timeout<5.0,>=4.0 in /home/gangagyatso/.local/lib/python3.10/site-packages (from aiohttp->datasets>=2.0.0->evaluate) (4.0.3)\n",
      "Requirement already satisfied: idna>=2.0 in /home/gangagyatso/.local/lib/python3.10/site-packages (from yarl<2.0,>=1.0->aiohttp->datasets>=2.0.0->evaluate) (3.10)\n",
      "Requirement already satisfied: typing-extensions>=3.7.4.3 in /home/gangagyatso/.local/lib/python3.10/site-packages (from huggingface-hub>=0.7.0->evaluate) (4.15.0)\n",
      "Requirement already satisfied: hf-xet<2.0.0,>=1.1.3 in /home/gangagyatso/.local/lib/python3.10/site-packages (from huggingface-hub>=0.7.0->evaluate) (1.1.10)\n",
      "Requirement already satisfied: charset_normalizer<4,>=2 in /home/gangagyatso/.local/lib/python3.10/site-packages (from requests>=2.19.0->evaluate) (3.4.3)\n",
      "Requirement already satisfied: urllib3<3,>=1.21.1 in /home/gangagyatso/.local/lib/python3.10/site-packages (from requests>=2.19.0->evaluate) (2.5.0)\n",
      "Requirement already satisfied: certifi>=2017.4.17 in /home/gangagyatso/.local/lib/python3.10/site-packages (from requests>=2.19.0->evaluate) (2025.8.3)\n",
      "Requirement already satisfied: python-dateutil>=2.8.2 in /home/gangagyatso/.local/lib/python3.10/site-packages (from pandas->evaluate) (2.8.2)\n",
      "Requirement already satisfied: pytz>=2020.1 in /usr/lib/python3/dist-packages (from pandas->evaluate) (2022.1)\n",
      "Requirement already satisfied: tzdata>=2022.7 in /home/gangagyatso/.local/lib/python3.10/site-packages (from pandas->evaluate) (2024.1)\n",
      "Requirement already satisfied: six>=1.5 in /usr/lib/python3/dist-packages (from python-dateutil>=2.8.2->pandas->evaluate) (1.16.0)\n",
      "\n",
      "\u001b[1m[\u001b[0m\u001b[34;49mnotice\u001b[0m\u001b[1;39;49m]\u001b[0m\u001b[39;49m A new release of pip is available: \u001b[0m\u001b[31;49m25.1.1\u001b[0m\u001b[39;49m -> \u001b[0m\u001b[32;49m25.2\u001b[0m\n",
      "\u001b[1m[\u001b[0m\u001b[34;49mnotice\u001b[0m\u001b[1;39;49m]\u001b[0m\u001b[39;49m To update, run: \u001b[0m\u001b[32;49mpip install --upgrade pip\u001b[0m\n"
     ]
    }
   ],
   "source": [
    "! pip install jiwer evaluate"
   ]
  },
  {
   "cell_type": "code",
   "execution_count": 9,
   "id": "0ee3739e",
   "metadata": {
    "vscode": {
     "languageId": "shellscript"
    }
   },
   "outputs": [
    {
     "name": "stderr",
     "output_type": "stream",
     "text": [
      "Using the latest cached version of the module from /home/gangagyatso/.cache/huggingface/modules/evaluate_modules/metrics/evaluate-metric--cer/9cb90b752d5f15fb41161efdbefd13570adb3f32fa157290d8a55093c47428e1 (last modified on Fri Jun  7 15:35:04 2024) since it couldn't be found locally at evaluate-metric--cer, or remotely on the Hugging Face Hub.\n"
     ]
    }
   ],
   "source": [
    "from evaluate import load\n",
    "cer_metric = load(\"cer\")"
   ]
  },
  {
   "cell_type": "code",
   "execution_count": 10,
   "id": "f7ba2b54",
   "metadata": {
    "vscode": {
     "languageId": "shellscript"
    }
   },
   "outputs": [
    {
     "name": "stdout",
     "output_type": "stream",
     "text": [
      "དེའི་རྩིས་གཞི་ད་ད་ལྟ་སྐད་ཆ་བཤད་དགོས་རེད་ད། དྲན་པས་ཡང་མི་གནོད།\n",
      "དེ་ནས་དེ་དུས། ད་ད་ལྟ་སྐད་ཆ་བཤད་དགོས་རེད། ཨ་དྲན་གྱི་ཡང་མི་འདུག\n",
      "{'micro_wer': 0.4915254237288136, 'macro_wer': np.float64(0.4576271186440678), 'substitutions': 26, 'insertions': 2, 'deletions': 1, 'num_sentences': 61}\n"
     ]
    }
   ],
   "source": [
    "rand_index = 5\n",
    "print(df.loc[rand_index, 'uni'])\n",
    "print(df.loc[rand_index, 'tibetan_transcript'])\n",
    "\n",
    "wer = wer(df.loc[rand_index, 'uni'], df.loc[rand_index, 'tibetan_transcript'])\n",
    "\n",
    "print(wer)"
   ]
  },
  {
   "cell_type": "code",
   "execution_count": 11,
   "id": "50262bd9",
   "metadata": {
    "vscode": {
     "languageId": "shellscript"
    }
   },
   "outputs": [
    {
     "name": "stdout",
     "output_type": "stream",
     "text": [
      "{'micro_wer': 0.05263157894736842, 'macro_wer': np.float64(0.05555555555555555), 'substitutions': 0, 'insertions': 0, 'deletions': 1, 'num_sentences': 2}\n"
     ]
    }
   ],
   "source": [
    "from tibetan_wer.metrics import wer\n",
    "\n",
    "prediction = ['གཞོན་ནུར་གྱུར་པ་ལ་ཕྱག་འཚལ་ལོ༔', 'དེ་ནས་ད་ལྟ་ཀར་སྤང་དེ་ལ་དེ་ནས། ཨ།']\n",
    "reference = ['འཇམ་དཔལ་གཞོན་ནུར་གྱུར་པ་ལ་ཕྱག་འཚལ་ལོ༔', 'དེ་ནས་ད་ལྟ་ཀར་སྤང་དེ་ལ་དེ་ནས། ཨ།']\n",
    "\n",
    "result = wer(prediction, reference)\n",
    "print(result)\n"
   ]
  },
  {
   "cell_type": "code",
   "execution_count": 12,
   "id": "ba33e774",
   "metadata": {
    "vscode": {
     "languageId": "shellscript"
    }
   },
   "outputs": [
    {
     "name": "stdout",
     "output_type": "stream",
     "text": [
      "Micro-Average SER Score: 0.200\n",
      "Macro-Average SER Score: 0.200\n",
      "Substitutions: 0.000\n",
      "Insertions: 0.000\n",
      "Deletions: 2.000\n"
     ]
    }
   ],
   "source": [
    "from tibetan_wer.metrics import ser\n",
    "\n",
    "prediction = ['གཞོན་ནུར་གྱུར་པ་ལ་ཕྱག་འཚལ་ལོ༔']\n",
    "reference = ['འཇམ་དཔལ་གཞོན་ནུར་གྱུར་པ་ལ་ཕྱག་འཚལ་ལོ༔']\n",
    "\n",
    "result = ser(prediction, reference)\n",
    "\n",
    "print(f'Micro-Average SER Score: {result[\"micro_ser\"]:.3f}')\n",
    "print(f'Macro-Average SER Score: {result[\"macro_ser\"]:.3f}')\n",
    "print(f'Substitutions: {result[\"substitutions\"]:.3f}')\n",
    "print(f'Insertions: {result[\"insertions\"]:.3f}')\n",
    "print(f'Deletions: {result[\"deletions\"]:.3f}')"
   ]
  },
  {
   "cell_type": "code",
   "execution_count": null,
   "id": "edef25e3",
   "metadata": {
    "vscode": {
     "languageId": "shellscript"
    }
   },
   "outputs": [],
   "source": [
    "df['cer'] = df.apply(lambda row: calculate_cer(row), axis=1)\n"
   ]
  },
  {
   "cell_type": "code",
   "execution_count": null,
   "id": "ca3076bc",
   "metadata": {
    "vscode": {
     "languageId": "shellscript"
    }
   },
   "outputs": [],
   "source": [
    "df['cer'].mean()"
   ]
  },
  {
   "cell_type": "code",
   "execution_count": 18,
   "id": "6c049006",
   "metadata": {
    "vscode": {
     "languageId": "shellscript"
    }
   },
   "outputs": [
    {
     "data": {
      "text/plain": [
       "893"
      ]
     },
     "execution_count": 18,
     "metadata": {},
     "output_type": "execute_result"
    }
   ],
   "source": [
    "len(df)"
   ]
  },
  {
   "cell_type": "code",
   "execution_count": 19,
   "id": "f3b43242",
   "metadata": {
    "vscode": {
     "languageId": "shellscript"
    }
   },
   "outputs": [],
   "source": [
    "references = list(df['uni'])\n",
    "predictions = list(df['wylie_to_tibetan_text'])\n"
   ]
  },
  {
   "cell_type": "code",
   "execution_count": 20,
   "id": "e07d034e",
   "metadata": {
    "vscode": {
     "languageId": "shellscript"
    }
   },
   "outputs": [
    {
     "name": "stdout",
     "output_type": "stream",
     "text": [
      "0.3984519498282535\n"
     ]
    }
   ],
   "source": [
    "cer = cer_metric.compute(predictions=predictions, references=references)\n",
    "print(cer)"
   ]
  },
  {
   "cell_type": "code",
   "execution_count": 21,
   "id": "51e640f9",
   "metadata": {
    "vscode": {
     "languageId": "shellscript"
    }
   },
   "outputs": [
    {
     "name": "stdout",
     "output_type": "stream",
     "text": [
      "{'micro_wer': 0.6753966736761613, 'macro_wer': np.float64(0.7124242870608974), 'substitutions': 6377, 'insertions': 922, 'deletions': 3300, 'num_sentences': 893}\n"
     ]
    }
   ],
   "source": [
    "wer_result = wer(predictions, references)\n",
    "print(wer_result)"
   ]
  },
  {
   "cell_type": "code",
   "execution_count": 22,
   "id": "f3d4cb2a",
   "metadata": {
    "vscode": {
     "languageId": "shellscript"
    }
   },
   "outputs": [
    {
     "name": "stdout",
     "output_type": "stream",
     "text": [
      "{'micro_ser': 0.6165623670939911, 'macro_ser': np.float64(0.6562800512792923), 'substitutions': 6741, 'insertions': 1561, 'deletions': 1846, 'num_sentences': 893}\n"
     ]
    }
   ],
   "source": [
    "ser_result =  ser(predictions, references)\n",
    "print(ser_result)\n"
   ]
  },
  {
   "cell_type": "code",
   "execution_count": 17,
   "id": "df2c9d3b",
   "metadata": {
    "vscode": {
     "languageId": "shellscript"
    }
   },
   "outputs": [
    {
     "data": {
      "text/plain": [
       "np.float64(1.0750530555555557)"
      ]
     },
     "execution_count": 17,
     "metadata": {},
     "output_type": "execute_result"
    }
   ],
   "source": [
    "df['audio_duration'].sum()/60/60\n"
   ]
  },
  {
   "cell_type": "code",
   "execution_count": null,
   "id": "79c82192",
   "metadata": {
    "vscode": {
     "languageId": "shellscript"
    }
   },
   "outputs": [],
   "source": [
    "len(df)"
   ]
  },
  {
   "cell_type": "code",
   "execution_count": null,
   "id": "835774f3",
   "metadata": {
    "vscode": {
     "languageId": "shellscript"
    }
   },
   "outputs": [],
   "source": [
    "import os\n",
    "import pandas as pd\n",
    "from pathlib import Path\n",
    "from tqdm import tqdm\n",
    "from multiprocessing import Pool, cpu_count\n",
    "import requests\n",
    "import os\n",
    "import requests\n",
    "import logging\n",
    "\n",
    "# Configure logging\n",
    "logging.basicConfig(filename='failed_downloads.log', level=logging.ERROR, format='%(asctime)s - %(message)s')\n",
    "\n",
    "# Function to download audio file\n",
    "def download_audio(url, file_name, save_path):\n",
    "    # Full path where the audio will be saved\n",
    "    \n",
    "    # Skip download if file already exists\n",
    "    if os.path.exists(save_path):\n",
    "        return\n",
    "    \n",
    "    try:\n",
    "        # Download the file from the URL and save it to the specified path\n",
    "        response = requests.get(url, timeout=10)\n",
    "        response.raise_for_status()  # Check for HTTP errors\n",
    "        with open(save_path, 'wb') as f:\n",
    "            f.write(response.content)\n",
    "    except requests.exceptions.RequestException as e:\n",
    "        # Log the error and file name if the download fails\n",
    "        logging.error(f\"Failed to download {file_name}: {e}\")\n",
    "\n",
    "\n",
    "# Function to download the audio file and perform inference\n",
    "def process_row(row):\n",
    "    url = row['url']\n",
    "    file_name = os.path.basename(url)\n",
    "    \n",
    "    # Create the save path for the temporary audio file\n",
    "    save_path = f\"../data/wav16k/{file_name}\"\n",
    "    os.makedirs(os.path.dirname(save_path), exist_ok=True)\n",
    "    \n",
    "    # Function to download the audio file\n",
    "    download_audio(url, file_name, save_path)\n",
    "    \n",
    "    return row\n",
    "\n",
    "# Function to process the DataFrame using Pool\n",
    "def process_dataframe(df):\n",
    "    # Number of processes to run, set to the number of available CPU cores or adjust as needed\n",
    "    num_workers = min(cpu_count(), 5)  # Adjust based on your system capabilities\n",
    "\n",
    "    # Use Pool to process rows in parallel\n",
    "    with Pool(processes=num_workers) as pool:\n",
    "        rows = list(tqdm(pool.imap(process_row, [row for _, row in df.iterrows()]), total=len(df)))\n",
    "\n",
    "    # Convert the processed rows back into a DataFrame\n",
    "    return pd.DataFrame(rows)\n",
    "\n",
    "\n",
    "\n",
    "if __name__ == \"__main__\":\n",
    "\n",
    "    df = pd.read_csv(\"sr_submitted.csv\")\n",
    "    # Add required columns\n",
    "    df['Path'] = '../data/wav16k/' + df['file_name'] + \".wav\"\n",
    "\n",
    "    processed_df = process_dataframe(df)\n",
    "   "
   ]
  },
  {
   "cell_type": "code",
   "execution_count": null,
   "id": "982412b4",
   "metadata": {
    "vscode": {
     "languageId": "shellscript"
    }
   },
   "outputs": [],
   "source": [
    "import os\n",
    "import sys\n",
    "import subprocess\n",
    "\n",
    "sys.path.append('../util')\n",
    "\n",
    "\n",
    "from common_utils import get_time_span\n",
    "from common_utils import clean_transcription\n",
    "from transformers import pipeline\n",
    "from tqdm.auto import tqdm\n",
    "import pandas as pd\n",
    "from pathlib import Path\n",
    "from common_utils import parse_args_and_load_config\n",
    "\n",
    "\n",
    "\n",
    "# Read configuration from the loaded JSON\n",
    "dept = 'GR'\n",
    "target_path = Path('../data/wav16k/')\n",
    "rows = []\n",
    "\n",
    "generator = pipeline(model=\"openpecha/Situ_rinpoche_asr\")\n",
    "\n",
    "for file in tqdm(target_path.glob('*.wav'), total=len(list(target_path.glob('*.wav')))):\n",
    "    inf = generator(str(file))[\"text\"]\n",
    "    rows.append([file.stem, f\"https://d38pmlk0v88drf.cloudfront.net/wav16k/{file.name}\", inf, get_time_span(str(file.name))])\n",
    "\n",
    "\n",
    "df = pd.DataFrame(rows, columns =['file_name', 'url', 'inference_transcript', 'audio_duration'])\n",
    "df = df.sort_values('file_name').reset_index(drop=True)\n",
    "df[['inference_transcript','url']].iloc[0:10].to_dict()\n",
    "df['inference_transcript'] = df['inference_transcript'].map(clean_transcription)\n",
    "df.to_csv(f\"../data/gr_situ1.csv\", index=False)\n",
    "\n",
    "   "
   ]
  },
  {
   "cell_type": "code",
   "execution_count": null,
   "id": "8f984d38",
   "metadata": {
    "vscode": {
     "languageId": "shellscript"
    }
   },
   "outputs": [],
   "source": [
    "df1 = pd.read_csv('../data/gr_situ1.csv')\n",
    "df2 = pd.read_csv('sr_submitted.csv')"
   ]
  },
  {
   "cell_type": "code",
   "execution_count": null,
   "id": "206419c8",
   "metadata": {
    "vscode": {
     "languageId": "shellscript"
    }
   },
   "outputs": [],
   "source": [
    "df1.head()"
   ]
  },
  {
   "cell_type": "code",
   "execution_count": null,
   "id": "929816e0",
   "metadata": {
    "vscode": {
     "languageId": "shellscript"
    }
   },
   "outputs": [],
   "source": [
    "df2.head()"
   ]
  },
  {
   "cell_type": "code",
   "execution_count": null,
   "id": "c23c8b1f",
   "metadata": {
    "vscode": {
     "languageId": "shellscript"
    }
   },
   "outputs": [],
   "source": [
    "# If you want to assign values from df2['transcript'] to df1['transcript'] where file_name matches:\n",
    "df1['transcript'] = df1.apply(lambda row: df2.loc[df2['file_name'] == row['file_name'], 'transcript'].values[0] \n",
    "                             if any(df2['file_name'] == row['file_name']) else row['transcript'], axis=1)"
   ]
  },
  {
   "cell_type": "code",
   "execution_count": null,
   "id": "af6f6d1e",
   "metadata": {
    "vscode": {
     "languageId": "shellscript"
    }
   },
   "outputs": [],
   "source": [
    "df1.head()"
   ]
  },
  {
   "cell_type": "code",
   "execution_count": null,
   "id": "1f2321d0",
   "metadata": {
    "vscode": {
     "languageId": "shellscript"
    }
   },
   "outputs": [],
   "source": [
    "df1.to_csv('gr_situ2.csv', index=False)"
   ]
  },
  {
   "cell_type": "code",
   "execution_count": null,
   "id": "7d4a554c",
   "metadata": {
    "vscode": {
     "languageId": "shellscript"
    }
   },
   "outputs": [],
   "source": [
    "import pandas as pd\n",
    "\n",
    "df1 = pd.read_csv(\"sr_submitted.csv\")"
   ]
  },
  {
   "cell_type": "code",
   "execution_count": null,
   "id": "80bda7a2",
   "metadata": {
    "vscode": {
     "languageId": "shellscript"
    }
   },
   "outputs": [],
   "source": [
    "df2 = pd.read_csv(\"gr_situ2.csv\")"
   ]
  },
  {
   "cell_type": "code",
   "execution_count": null,
   "id": "466b4bc3",
   "metadata": {
    "vscode": {
     "languageId": "shellscript"
    }
   },
   "outputs": [],
   "source": [
    "df3 = pd.read_csv(\"gr_dilgo1.csv\")"
   ]
  },
  {
   "cell_type": "code",
   "execution_count": null,
   "id": "5dfe76e6",
   "metadata": {
    "vscode": {
     "languageId": "shellscript"
    }
   },
   "outputs": [],
   "source": [
    "df3.head()"
   ]
  },
  {
   "cell_type": "code",
   "execution_count": null,
   "id": "25f66336",
   "metadata": {
    "vscode": {
     "languageId": "shellscript"
    }
   },
   "outputs": [],
   "source": [
    "# Assuming df1 and df3 are already created dataframes\n",
    "# This will add the inference_transcript from df1 to df3 where file_name matches\n",
    "df3[\"General_model_inference\"] = df3[\"file_name\"].map(df1.set_index(\"file_name\")[\"inference_transcript\"])"
   ]
  },
  {
   "cell_type": "code",
   "execution_count": null,
   "id": "e78eaca7",
   "metadata": {
    "vscode": {
     "languageId": "shellscript"
    }
   },
   "outputs": [],
   "source": [
    "df3[\"situ_rinpoche_model_inference\"] = df3[\"file_name\"].map(df2.set_index(\"file_name\")[\"inference_transcript\"])"
   ]
  },
  {
   "cell_type": "code",
   "execution_count": null,
   "id": "8d08baaa",
   "metadata": {
    "vscode": {
     "languageId": "shellscript"
    }
   },
   "outputs": [],
   "source": [
    "df3.head()"
   ]
  },
  {
   "cell_type": "code",
   "execution_count": null,
   "id": "8fad037d",
   "metadata": {
    "vscode": {
     "languageId": "shellscript"
    }
   },
   "outputs": [],
   "source": [
    "df3.rename(columns={'inference_transcript':'Dilgo_kyentse_Rinpoche_model_inference'}, inplace=True)"
   ]
  },
  {
   "cell_type": "code",
   "execution_count": null,
   "id": "fc4f34fb",
   "metadata": {
    "vscode": {
     "languageId": "shellscript"
    }
   },
   "outputs": [],
   "source": [
    "df3.head()"
   ]
  },
  {
   "cell_type": "code",
   "execution_count": null,
   "id": "1c419627",
   "metadata": {
    "vscode": {
     "languageId": "shellscript"
    }
   },
   "outputs": [],
   "source": [
    "df3.rename(columns={'transcript':'Human_transcript'}, inplace=True)"
   ]
  },
  {
   "cell_type": "code",
   "execution_count": null,
   "id": "54818a45",
   "metadata": {
    "vscode": {
     "languageId": "shellscript"
    }
   },
   "outputs": [],
   "source": [
    "df3.head()"
   ]
  },
  {
   "cell_type": "code",
   "execution_count": null,
   "id": "aab4ba36",
   "metadata": {
    "vscode": {
     "languageId": "shellscript"
    }
   },
   "outputs": [],
   "source": [
    "from huggingface_hub import login\n",
    "login()  # This will prompt for your Hugging Face token"
   ]
  },
  {
   "cell_type": "code",
   "execution_count": null,
   "id": "9ec3755f",
   "metadata": {
    "vscode": {
     "languageId": "shellscript"
    }
   },
   "outputs": [],
   "source": [
    "import pandas as pd \n",
    "\n",
    "# Load the CSV file into a pandas DataFrame\n",
    "df = pd.read_csv('processed_test_with_cer.csv')"
   ]
  },
  {
   "cell_type": "code",
   "execution_count": null,
   "id": "ecdfa511",
   "metadata": {
    "vscode": {
     "languageId": "shellscript"
    }
   },
   "outputs": [],
   "source": [
    "\n",
    "# Print the first few rows of the DataFrame\n",
    "df.head()"
   ]
  },
  {
   "cell_type": "code",
   "execution_count": null,
   "id": "3a322f16",
   "metadata": {
    "vscode": {
     "languageId": "shellscript"
    }
   },
   "outputs": [],
   "source": [
    "df.columns"
   ]
  },
  {
   "cell_type": "code",
   "execution_count": null,
   "id": "ac4206f9",
   "metadata": {
    "vscode": {
     "languageId": "shellscript"
    }
   },
   "outputs": [],
   "source": [
    "# Reorder columns into logical groups\n",
    "reordered_df = df[\n",
    "    # File and metadata columns\n",
    "    ['file_name', 'url',  'audio_duration', 'original_id', 'path',\n",
    "     'strata', 'age_group', 'duration_category', 'content_type', 'uni',\n",
    "    \n",
    "    # Base model\n",
    "    'base_transcript', 'base_cer',\n",
    "    \n",
    "    # v1 models (grouped together - both inferences and CERs)\n",
    "    'ft_v1_inference_checkpoint-5000', 'ft_v1_cer_5000',\n",
    "    'ft_v1_inference_checkpoint-10000', 'ft_v1_cer_10000',\n",
    "    'ft_v1_inference_checkpoint-19000', 'ft_v1_cer_19000',\n",
    "    \n",
    "    # v2 models\n",
    "    'ft_v2_inference_checkpoint-20000', 'ft_v2_cer_20000',\n",
    "    'ft_v2_inference_checkpoint-32000', 'ft_v2_cer_32000',\n",
    "    'ft_v2_inference_checkpoint-43000', 'ft_v2_cer_43000',\n",
    "    \n",
    "    # v3 models\n",
    "    'ft_v3_inference_checkpoint-1000', 'ft_v3_cer_1000',\n",
    "    'ft_v3_inference_checkpoint-25000', 'ft_v3_cer_25000',\n",
    "    \n",
    "    # v4 model\n",
    "    'ft_v4_inference_checkpoint-22000', 'ft_v4_cer_22000'\n",
    "    ]\n",
    "]"
   ]
  },
  {
   "cell_type": "code",
   "execution_count": null,
   "id": "f83ec292",
   "metadata": {
    "vscode": {
     "languageId": "shellscript"
    }
   },
   "outputs": [],
   "source": [
    "from datasets import Dataset\n",
    "from huggingface_hub import HfApi\n",
    "\n",
    "# Assuming df2 is a pandas DataFrame\n",
    "# Convert your pandas DataFrame to a Hugging Face Dataset\n",
    "hf_dataset = Dataset.from_pandas(reordered_df)\n",
    "\n",
    "# Create a new repository on the Hub\n",
    "api = HfApi()\n",
    "repo_id = \"ganga4364/garchen_rinpoche_inference_transcripts\"  # replace with your username and desired dataset name\n",
    "\n",
    "# Push the dataset to the Hub\n",
    "hf_dataset.push_to_hub(repo_id)"
   ]
  },
  {
   "cell_type": "code",
   "execution_count": null,
   "id": "589c60f5",
   "metadata": {
    "vscode": {
     "languageId": "shellscript"
    }
   },
   "outputs": [],
   "source": []
  }
 ],
 "metadata": {
  "kernelspec": {
   "display_name": "Python 3",
   "language": "python",
   "name": "python3"
  },
  "language_info": {
   "codemirror_mode": {
    "name": "ipython",
    "version": 3
   },
   "file_extension": ".py",
   "mimetype": "text/x-python",
   "name": "python",
   "nbconvert_exporter": "python",
   "pygments_lexer": "ipython3",
   "version": "3.10.12"
  }
 },
 "nbformat": 4,
 "nbformat_minor": 5
}
